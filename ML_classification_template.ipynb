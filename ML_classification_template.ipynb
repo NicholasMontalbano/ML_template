{
 "cells": [
  {
   "cell_type": "markdown",
   "metadata": {},
   "source": [
    "# Machine Learning Classification Template"
   ]
  },
  {
   "cell_type": "markdown",
   "metadata": {},
   "source": [
    "### Steps: \n",
    "1. Look at the big picture \n",
    "2. Get the data \n",
    "3. Discover and visualize the data to gain insights \n",
    "4. Prepare the data for machine learning algorithms \n",
    "5. Select and train the model \n",
    "6. Fine-tune the model \n",
    "7. Present the solution \n",
    "8. Launch, monitor, and maintain the system\n",
    "\n",
    "- https://github.com/ageron/handson-ml2"
   ]
  },
  {
   "cell_type": "markdown",
   "metadata": {},
   "source": [
    "### 1. Look at the big picture \n",
    "- Frame the problem \n",
    "- Select a performance measure \n",
    "- Check the assumptions"
   ]
  },
  {
   "cell_type": "markdown",
   "metadata": {},
   "source": [
    "### 2. Get the data\n",
    "- Create the workspace (folder)\n",
    "- Create the virtual environment \n",
    "- Download the data \n",
    "- Look at data structure \n",
    "- Create a train and test set "
   ]
  },
  {
   "cell_type": "code",
   "execution_count": 1,
   "metadata": {},
   "outputs": [],
   "source": [
    "# Python ≥3.5 is required\n",
    "import sys\n",
    "assert sys.version_info >= (3, 5)\n",
    "\n",
    "# Scikit-Learn ≥0.20 is required\n",
    "import sklearn\n",
    "assert sklearn.__version__ >= \"0.20\"\n",
    "\n",
    "# Common imports\n",
    "import numpy as np\n",
    "import os"
   ]
  },
  {
   "cell_type": "code",
   "execution_count": 2,
   "metadata": {},
   "outputs": [
    {
     "name": "stderr",
     "output_type": "stream",
     "text": [
      "WARNING:root:Requests made without an app_token will be subject to strict throttling limits.\n"
     ]
    }
   ],
   "source": [
    "## Download the data\n",
    "import pandas as pd\n",
    "from sodapy import Socrata\n",
    "\n",
    "# Open Data example\n",
    "# https://data.cityofnewyork.us/Environment/2015-Street-Tree-Census-Tree-Data/uvpi-gqnh\n",
    "client = Socrata(\"data.cityofnewyork.us\", app_token = None, timeout=100)\n",
    "\n",
    "results = client.get(\"uvpi-gqnh\", limit=5000)\n",
    "\n",
    "# Convert to pandas DataFrame\n",
    "df_trees = pd.DataFrame.from_records(results)"
   ]
  },
  {
   "cell_type": "code",
   "execution_count": 3,
   "metadata": {},
   "outputs": [
    {
     "name": "stdout",
     "output_type": "stream",
     "text": [
      "<class 'pandas.core.frame.DataFrame'>\n",
      "RangeIndex: 5000 entries, 0 to 4999\n",
      "Data columns (total 45 columns):\n",
      " #   Column            Non-Null Count  Dtype \n",
      "---  ------            --------------  ----- \n",
      " 0   tree_id           5000 non-null   object\n",
      " 1   block_id          5000 non-null   object\n",
      " 2   created_at        5000 non-null   object\n",
      " 3   tree_dbh          5000 non-null   object\n",
      " 4   stump_diam        5000 non-null   object\n",
      " 5   curb_loc          5000 non-null   object\n",
      " 6   status            5000 non-null   object\n",
      " 7   health            4794 non-null   object\n",
      " 8   spc_latin         4794 non-null   object\n",
      " 9   spc_common        4794 non-null   object\n",
      " 10  steward           4794 non-null   object\n",
      " 11  guards            4794 non-null   object\n",
      " 12  sidewalk          4794 non-null   object\n",
      " 13  user_type         5000 non-null   object\n",
      " 14  problems          4794 non-null   object\n",
      " 15  root_stone        5000 non-null   object\n",
      " 16  root_grate        5000 non-null   object\n",
      " 17  root_other        5000 non-null   object\n",
      " 18  trunk_wire        5000 non-null   object\n",
      " 19  trnk_light        5000 non-null   object\n",
      " 20  trnk_other        5000 non-null   object\n",
      " 21  brch_light        5000 non-null   object\n",
      " 22  brch_shoe         5000 non-null   object\n",
      " 23  brch_other        5000 non-null   object\n",
      " 24  address           5000 non-null   object\n",
      " 25  zipcode           5000 non-null   object\n",
      " 26  zip_city          5000 non-null   object\n",
      " 27  cb_num            5000 non-null   object\n",
      " 28  borocode          5000 non-null   object\n",
      " 29  boroname          5000 non-null   object\n",
      " 30  cncldist          5000 non-null   object\n",
      " 31  st_assem          5000 non-null   object\n",
      " 32  st_senate         5000 non-null   object\n",
      " 33  nta               5000 non-null   object\n",
      " 34  nta_name          5000 non-null   object\n",
      " 35  boro_ct           5000 non-null   object\n",
      " 36  state             5000 non-null   object\n",
      " 37  latitude          5000 non-null   object\n",
      " 38  longitude         5000 non-null   object\n",
      " 39  x_sp              5000 non-null   object\n",
      " 40  y_sp              5000 non-null   object\n",
      " 41  council_district  4954 non-null   object\n",
      " 42  census_tract      4954 non-null   object\n",
      " 43  bin               4934 non-null   object\n",
      " 44  bbl               4934 non-null   object\n",
      "dtypes: object(45)\n",
      "memory usage: 1.7+ MB\n"
     ]
    },
    {
     "data": {
      "text/html": [
       "<div>\n",
       "<style scoped>\n",
       "    .dataframe tbody tr th:only-of-type {\n",
       "        vertical-align: middle;\n",
       "    }\n",
       "\n",
       "    .dataframe tbody tr th {\n",
       "        vertical-align: top;\n",
       "    }\n",
       "\n",
       "    .dataframe thead th {\n",
       "        text-align: right;\n",
       "    }\n",
       "</style>\n",
       "<table border=\"1\" class=\"dataframe\">\n",
       "  <thead>\n",
       "    <tr style=\"text-align: right;\">\n",
       "      <th></th>\n",
       "      <th>tree_id</th>\n",
       "      <th>block_id</th>\n",
       "      <th>created_at</th>\n",
       "      <th>tree_dbh</th>\n",
       "      <th>stump_diam</th>\n",
       "      <th>curb_loc</th>\n",
       "      <th>status</th>\n",
       "      <th>health</th>\n",
       "      <th>spc_latin</th>\n",
       "      <th>spc_common</th>\n",
       "      <th>...</th>\n",
       "      <th>boro_ct</th>\n",
       "      <th>state</th>\n",
       "      <th>latitude</th>\n",
       "      <th>longitude</th>\n",
       "      <th>x_sp</th>\n",
       "      <th>y_sp</th>\n",
       "      <th>council_district</th>\n",
       "      <th>census_tract</th>\n",
       "      <th>bin</th>\n",
       "      <th>bbl</th>\n",
       "    </tr>\n",
       "  </thead>\n",
       "  <tbody>\n",
       "    <tr>\n",
       "      <th>count</th>\n",
       "      <td>5000</td>\n",
       "      <td>5000</td>\n",
       "      <td>5000</td>\n",
       "      <td>5000</td>\n",
       "      <td>5000</td>\n",
       "      <td>5000</td>\n",
       "      <td>5000</td>\n",
       "      <td>4794</td>\n",
       "      <td>4794</td>\n",
       "      <td>4794</td>\n",
       "      <td>...</td>\n",
       "      <td>5000</td>\n",
       "      <td>5000</td>\n",
       "      <td>5000</td>\n",
       "      <td>5000</td>\n",
       "      <td>5000</td>\n",
       "      <td>5000</td>\n",
       "      <td>4954</td>\n",
       "      <td>4954</td>\n",
       "      <td>4934</td>\n",
       "      <td>4934</td>\n",
       "    </tr>\n",
       "    <tr>\n",
       "      <th>unique</th>\n",
       "      <td>5000</td>\n",
       "      <td>2488</td>\n",
       "      <td>97</td>\n",
       "      <td>49</td>\n",
       "      <td>35</td>\n",
       "      <td>2</td>\n",
       "      <td>3</td>\n",
       "      <td>3</td>\n",
       "      <td>94</td>\n",
       "      <td>94</td>\n",
       "      <td>...</td>\n",
       "      <td>768</td>\n",
       "      <td>1</td>\n",
       "      <td>4998</td>\n",
       "      <td>4999</td>\n",
       "      <td>4999</td>\n",
       "      <td>4999</td>\n",
       "      <td>50</td>\n",
       "      <td>638</td>\n",
       "      <td>4002</td>\n",
       "      <td>3915</td>\n",
       "    </tr>\n",
       "    <tr>\n",
       "      <th>top</th>\n",
       "      <td>180683</td>\n",
       "      <td>106403</td>\n",
       "      <td>2015-08-30T00:00:00.000</td>\n",
       "      <td>4</td>\n",
       "      <td>0</td>\n",
       "      <td>OnCurb</td>\n",
       "      <td>Alive</td>\n",
       "      <td>Good</td>\n",
       "      <td>Gleditsia triacanthos var. inermis</td>\n",
       "      <td>honeylocust</td>\n",
       "      <td>...</td>\n",
       "      <td>1016500</td>\n",
       "      <td>New York</td>\n",
       "      <td>40.78215257</td>\n",
       "      <td>-73.96331506</td>\n",
       "      <td>994405.4269</td>\n",
       "      <td>233951.0486</td>\n",
       "      <td>50</td>\n",
       "      <td>165</td>\n",
       "      <td>1076229</td>\n",
       "      <td>1011147503</td>\n",
       "    </tr>\n",
       "    <tr>\n",
       "      <th>freq</th>\n",
       "      <td>1</td>\n",
       "      <td>40</td>\n",
       "      <td>456</td>\n",
       "      <td>457</td>\n",
       "      <td>4894</td>\n",
       "      <td>4774</td>\n",
       "      <td>4794</td>\n",
       "      <td>3513</td>\n",
       "      <td>503</td>\n",
       "      <td>503</td>\n",
       "      <td>...</td>\n",
       "      <td>80</td>\n",
       "      <td>5000</td>\n",
       "      <td>2</td>\n",
       "      <td>2</td>\n",
       "      <td>2</td>\n",
       "      <td>2</td>\n",
       "      <td>326</td>\n",
       "      <td>114</td>\n",
       "      <td>10</td>\n",
       "      <td>10</td>\n",
       "    </tr>\n",
       "  </tbody>\n",
       "</table>\n",
       "<p>4 rows × 45 columns</p>\n",
       "</div>"
      ],
      "text/plain": [
       "       tree_id block_id               created_at tree_dbh stump_diam curb_loc  \\\n",
       "count     5000     5000                     5000     5000       5000     5000   \n",
       "unique    5000     2488                       97       49         35        2   \n",
       "top     180683   106403  2015-08-30T00:00:00.000        4          0   OnCurb   \n",
       "freq         1       40                      456      457       4894     4774   \n",
       "\n",
       "       status health                           spc_latin   spc_common  ...  \\\n",
       "count    5000   4794                                4794         4794  ...   \n",
       "unique      3      3                                  94           94  ...   \n",
       "top     Alive   Good  Gleditsia triacanthos var. inermis  honeylocust  ...   \n",
       "freq     4794   3513                                 503          503  ...   \n",
       "\n",
       "        boro_ct     state     latitude     longitude         x_sp  \\\n",
       "count      5000      5000         5000          5000         5000   \n",
       "unique      768         1         4998          4999         4999   \n",
       "top     1016500  New York  40.78215257  -73.96331506  994405.4269   \n",
       "freq         80      5000            2             2            2   \n",
       "\n",
       "               y_sp council_district census_tract      bin         bbl  \n",
       "count          5000             4954         4954     4934        4934  \n",
       "unique         4999               50          638     4002        3915  \n",
       "top     233951.0486               50          165  1076229  1011147503  \n",
       "freq              2              326          114       10          10  \n",
       "\n",
       "[4 rows x 45 columns]"
      ]
     },
     "execution_count": 3,
     "metadata": {},
     "output_type": "execute_result"
    }
   ],
   "source": [
    "## Look at data structure \n",
    "df_trees.info()\n",
    "df_trees['status'].value_counts()\n",
    "df_trees.describe()"
   ]
  },
  {
   "cell_type": "code",
   "execution_count": 4,
   "metadata": {},
   "outputs": [],
   "source": [
    "# only keep columns we want\n",
    "df_trees = df_trees.drop(['tree_id', 'block_id', 'created_at', 'address', 'zipcode', 'zip_city', 'cb_num', 'borocode', 'cncldist', 'st_assem', 'st_senate', 'nta', 'nta_name', 'boro_ct', 'state', 'x_sp', 'y_sp', 'council_district', 'census_tract', 'bin', 'bbl'], axis=1) "
   ]
  },
  {
   "cell_type": "code",
   "execution_count": 5,
   "metadata": {},
   "outputs": [
    {
     "data": {
      "text/plain": [
       "<AxesSubplot:>"
      ]
     },
     "execution_count": 5,
     "metadata": {},
     "output_type": "execute_result"
    },
    {
     "data": {
      "image/png": "[encoded data removed]",
      "text/plain": [
       "<Figure size 1440x1080 with 1 Axes>"
      ]
     },
     "metadata": {},
     "output_type": "display_data"
    }
   ],
   "source": [
    "coord_cols = ['longitude', 'latitude']\n",
    "df_trees[coord_cols] = df_trees[coord_cols].apply(pd.to_numeric, errors='coerce')\n",
    "diam_cols = ['tree_dbh', 'stump_diam']\n",
    "df_trees[diam_cols] = df_trees[diam_cols].apply(pd.to_numeric, errors='coerce')"
   ]
  },
  {
   "cell_type": "code",
   "execution_count": null,
   "metadata": {},
   "outputs": [],
   "source": [
    "%matplotlib inline\n",
    "# To plot pretty figures\n",
    "import matplotlib as mpl\n",
    "import matplotlib.pyplot as plt\n",
    "plt.style.use('dark_background')\n",
    "mpl.rc('axes', labelsize=14)\n",
    "mpl.rc('xtick', labelsize=12)\n",
    "mpl.rc('ytick', labelsize=12)\n",
    "\n",
    "\n",
    "df_trees['longitude'].hist(bins=50, figsize=(20,15))"
   ]
  },
  {
   "cell_type": "code",
   "execution_count": 6,
   "metadata": {},
   "outputs": [
    {
     "data": {
      "text/html": [
       "<div>\n",
       "<style scoped>\n",
       "    .dataframe tbody tr th:only-of-type {\n",
       "        vertical-align: middle;\n",
       "    }\n",
       "\n",
       "    .dataframe tbody tr th {\n",
       "        vertical-align: top;\n",
       "    }\n",
       "\n",
       "    .dataframe thead th {\n",
       "        text-align: right;\n",
       "    }\n",
       "</style>\n",
       "<table border=\"1\" class=\"dataframe\">\n",
       "  <thead>\n",
       "    <tr style=\"text-align: right;\">\n",
       "      <th></th>\n",
       "      <th>tree_dbh</th>\n",
       "      <th>stump_diam</th>\n",
       "      <th>curb_loc</th>\n",
       "      <th>status</th>\n",
       "      <th>health</th>\n",
       "      <th>spc_latin</th>\n",
       "      <th>spc_common</th>\n",
       "      <th>steward</th>\n",
       "      <th>guards</th>\n",
       "      <th>sidewalk</th>\n",
       "      <th>...</th>\n",
       "      <th>root_other</th>\n",
       "      <th>trunk_wire</th>\n",
       "      <th>trnk_light</th>\n",
       "      <th>trnk_other</th>\n",
       "      <th>brch_light</th>\n",
       "      <th>brch_shoe</th>\n",
       "      <th>brch_other</th>\n",
       "      <th>boroname</th>\n",
       "      <th>latitude</th>\n",
       "      <th>longitude</th>\n",
       "    </tr>\n",
       "  </thead>\n",
       "  <tbody>\n",
       "    <tr>\n",
       "      <th>1501</th>\n",
       "      <td>11</td>\n",
       "      <td>0</td>\n",
       "      <td>OnCurb</td>\n",
       "      <td>Alive</td>\n",
       "      <td>Good</td>\n",
       "      <td>Pyrus calleryana</td>\n",
       "      <td>Callery pear</td>\n",
       "      <td>1or2</td>\n",
       "      <td>Harmful</td>\n",
       "      <td>NoDamage</td>\n",
       "      <td>...</td>\n",
       "      <td>No</td>\n",
       "      <td>No</td>\n",
       "      <td>No</td>\n",
       "      <td>No</td>\n",
       "      <td>No</td>\n",
       "      <td>No</td>\n",
       "      <td>No</td>\n",
       "      <td>Manhattan</td>\n",
       "      <td>40.764505</td>\n",
       "      <td>-73.959888</td>\n",
       "    </tr>\n",
       "    <tr>\n",
       "      <th>2586</th>\n",
       "      <td>7</td>\n",
       "      <td>0</td>\n",
       "      <td>OnCurb</td>\n",
       "      <td>Alive</td>\n",
       "      <td>Good</td>\n",
       "      <td>Quercus shumardii</td>\n",
       "      <td>Schumard's oak</td>\n",
       "      <td>None</td>\n",
       "      <td>None</td>\n",
       "      <td>NoDamage</td>\n",
       "      <td>...</td>\n",
       "      <td>No</td>\n",
       "      <td>No</td>\n",
       "      <td>No</td>\n",
       "      <td>No</td>\n",
       "      <td>No</td>\n",
       "      <td>No</td>\n",
       "      <td>No</td>\n",
       "      <td>Staten Island</td>\n",
       "      <td>40.638253</td>\n",
       "      <td>-74.116389</td>\n",
       "    </tr>\n",
       "    <tr>\n",
       "      <th>2653</th>\n",
       "      <td>2</td>\n",
       "      <td>0</td>\n",
       "      <td>OnCurb</td>\n",
       "      <td>Alive</td>\n",
       "      <td>Fair</td>\n",
       "      <td>Carpinus caroliniana</td>\n",
       "      <td>American hornbeam</td>\n",
       "      <td>1or2</td>\n",
       "      <td>None</td>\n",
       "      <td>NoDamage</td>\n",
       "      <td>...</td>\n",
       "      <td>No</td>\n",
       "      <td>No</td>\n",
       "      <td>No</td>\n",
       "      <td>No</td>\n",
       "      <td>No</td>\n",
       "      <td>No</td>\n",
       "      <td>No</td>\n",
       "      <td>Queens</td>\n",
       "      <td>40.750414</td>\n",
       "      <td>-73.940275</td>\n",
       "    </tr>\n",
       "    <tr>\n",
       "      <th>1055</th>\n",
       "      <td>20</td>\n",
       "      <td>0</td>\n",
       "      <td>OnCurb</td>\n",
       "      <td>Alive</td>\n",
       "      <td>Good</td>\n",
       "      <td>Platanus x acerifolia</td>\n",
       "      <td>London planetree</td>\n",
       "      <td>None</td>\n",
       "      <td>None</td>\n",
       "      <td>Damage</td>\n",
       "      <td>...</td>\n",
       "      <td>No</td>\n",
       "      <td>No</td>\n",
       "      <td>No</td>\n",
       "      <td>No</td>\n",
       "      <td>Yes</td>\n",
       "      <td>No</td>\n",
       "      <td>No</td>\n",
       "      <td>Queens</td>\n",
       "      <td>40.740931</td>\n",
       "      <td>-73.757695</td>\n",
       "    </tr>\n",
       "    <tr>\n",
       "      <th>705</th>\n",
       "      <td>4</td>\n",
       "      <td>0</td>\n",
       "      <td>OnCurb</td>\n",
       "      <td>Alive</td>\n",
       "      <td>Good</td>\n",
       "      <td>Styphnolobium japonicum</td>\n",
       "      <td>Sophora</td>\n",
       "      <td>1or2</td>\n",
       "      <td>Helpful</td>\n",
       "      <td>Damage</td>\n",
       "      <td>...</td>\n",
       "      <td>No</td>\n",
       "      <td>Yes</td>\n",
       "      <td>No</td>\n",
       "      <td>No</td>\n",
       "      <td>No</td>\n",
       "      <td>No</td>\n",
       "      <td>No</td>\n",
       "      <td>Manhattan</td>\n",
       "      <td>40.747049</td>\n",
       "      <td>-73.992807</td>\n",
       "    </tr>\n",
       "  </tbody>\n",
       "</table>\n",
       "<p>5 rows × 24 columns</p>\n",
       "</div>"
      ],
      "text/plain": [
       "      tree_dbh  stump_diam curb_loc status health                spc_latin  \\\n",
       "1501        11           0   OnCurb  Alive   Good         Pyrus calleryana   \n",
       "2586         7           0   OnCurb  Alive   Good        Quercus shumardii   \n",
       "2653         2           0   OnCurb  Alive   Fair     Carpinus caroliniana   \n",
       "1055        20           0   OnCurb  Alive   Good    Platanus x acerifolia   \n",
       "705          4           0   OnCurb  Alive   Good  Styphnolobium japonicum   \n",
       "\n",
       "             spc_common steward   guards  sidewalk  ... root_other trunk_wire  \\\n",
       "1501       Callery pear    1or2  Harmful  NoDamage  ...         No         No   \n",
       "2586     Schumard's oak    None     None  NoDamage  ...         No         No   \n",
       "2653  American hornbeam    1or2     None  NoDamage  ...         No         No   \n",
       "1055   London planetree    None     None    Damage  ...         No         No   \n",
       "705             Sophora    1or2  Helpful    Damage  ...         No        Yes   \n",
       "\n",
       "     trnk_light trnk_other brch_light brch_shoe brch_other       boroname  \\\n",
       "1501         No         No         No        No         No      Manhattan   \n",
       "2586         No         No         No        No         No  Staten Island   \n",
       "2653         No         No         No        No         No         Queens   \n",
       "1055         No         No        Yes        No         No         Queens   \n",
       "705          No         No         No        No         No      Manhattan   \n",
       "\n",
       "       latitude  longitude  \n",
       "1501  40.764505 -73.959888  \n",
       "2586  40.638253 -74.116389  \n",
       "2653  40.750414 -73.940275  \n",
       "1055  40.740931 -73.757695  \n",
       "705   40.747049 -73.992807  \n",
       "\n",
       "[5 rows x 24 columns]"
      ]
     },
     "execution_count": 6,
     "metadata": {},
     "output_type": "execute_result"
    }
   ],
   "source": [
    "# create a test set \n",
    "from sklearn.model_selection import train_test_split\n",
    "train_set, test_set = train_test_split(df_trees, test_size=0.2, random_state=42) \n",
    "test_set.head()"
   ]
  },
  {
   "cell_type": "code",
   "execution_count": 7,
   "metadata": {},
   "outputs": [
    {
     "data": {
      "text/plain": [
       "<AxesSubplot:>"
      ]
     },
     "execution_count": 7,
     "metadata": {},
     "output_type": "execute_result"
    },
    {
     "data": {
      "image/png": "[encoded data removed]",
      "text/plain": [
       "<Figure size 432x288 with 1 Axes>"
      ]
     },
     "metadata": {},
     "output_type": "display_data"
    }
   ],
   "source": [
    "df_trees['status'].value_counts().plot(kind='bar')"
   ]
  },
  {
   "cell_type": "code",
   "execution_count": 8,
   "metadata": {},
   "outputs": [],
   "source": [
    "from sklearn.model_selection import StratifiedShuffleSplit\n",
    "# stratification is an approach to maintain the original class proportion in resulting subsets\n",
    "\n",
    "split = StratifiedShuffleSplit(n_splits=1, test_size=0.2, random_state=42)\n",
    "for train_index, test_index in split.split(df_trees, df_trees[\"status\"]):\n",
    "    strat_train_set = df_trees.loc[train_index]\n",
    "    strat_test_set = df_trees.loc[test_index]"
   ]
  },
  {
   "cell_type": "code",
   "execution_count": 9,
   "metadata": {},
   "outputs": [
    {
     "data": {
      "text/html": [
       "<div>\n",
       "<style scoped>\n",
       "    .dataframe tbody tr th:only-of-type {\n",
       "        vertical-align: middle;\n",
       "    }\n",
       "\n",
       "    .dataframe tbody tr th {\n",
       "        vertical-align: top;\n",
       "    }\n",
       "\n",
       "    .dataframe thead th {\n",
       "        text-align: right;\n",
       "    }\n",
       "</style>\n",
       "<table border=\"1\" class=\"dataframe\">\n",
       "  <thead>\n",
       "    <tr style=\"text-align: right;\">\n",
       "      <th></th>\n",
       "      <th>Overall</th>\n",
       "      <th>Stratified</th>\n",
       "      <th>Random</th>\n",
       "      <th>Rand. %error</th>\n",
       "      <th>Strat. %error</th>\n",
       "    </tr>\n",
       "  </thead>\n",
       "  <tbody>\n",
       "    <tr>\n",
       "      <th>Alive</th>\n",
       "      <td>0.9588</td>\n",
       "      <td>0.959</td>\n",
       "      <td>0.956</td>\n",
       "      <td>-0.292032</td>\n",
       "      <td>0.020859</td>\n",
       "    </tr>\n",
       "    <tr>\n",
       "      <th>Dead</th>\n",
       "      <td>0.0200</td>\n",
       "      <td>0.020</td>\n",
       "      <td>0.021</td>\n",
       "      <td>5.000000</td>\n",
       "      <td>0.000000</td>\n",
       "    </tr>\n",
       "    <tr>\n",
       "      <th>Stump</th>\n",
       "      <td>0.0212</td>\n",
       "      <td>0.021</td>\n",
       "      <td>0.023</td>\n",
       "      <td>8.490566</td>\n",
       "      <td>-0.943396</td>\n",
       "    </tr>\n",
       "  </tbody>\n",
       "</table>\n",
       "</div>"
      ],
      "text/plain": [
       "       Overall  Stratified  Random  Rand. %error  Strat. %error\n",
       "Alive   0.9588       0.959   0.956     -0.292032       0.020859\n",
       "Dead    0.0200       0.020   0.021      5.000000       0.000000\n",
       "Stump   0.0212       0.021   0.023      8.490566      -0.943396"
      ]
     },
     "execution_count": 9,
     "metadata": {},
     "output_type": "execute_result"
    }
   ],
   "source": [
    "def status_proportions(df_trees):\n",
    "    return df_trees[\"status\"].value_counts() / len(df_trees)\n",
    "\n",
    "train_set, test_set = train_test_split(df_trees, test_size=0.2, random_state=42)\n",
    "\n",
    "compare_props = pd.DataFrame({\n",
    "    \"Overall\": status_proportions(df_trees),\n",
    "    \"Stratified\": status_proportions(strat_test_set),\n",
    "    \"Random\": status_proportions(test_set),\n",
    "}).sort_index()\n",
    "compare_props[\"Rand. %error\"] = 100 * compare_props[\"Random\"] / compare_props[\"Overall\"] - 100\n",
    "compare_props[\"Strat. %error\"] = 100 * compare_props[\"Stratified\"] / compare_props[\"Overall\"] - 100\n",
    "\n",
    "# shows why you want to stratify with small samples or when there are categories with small counts... stump doesn't exist in non-stratified (random) test set\n",
    "compare_props"
   ]
  },
  {
   "cell_type": "markdown",
   "metadata": {},
   "source": [
    "### 3. Discover and visualize the data to gain insights \n",
    "- Create basic plots or maps\n",
    "- Look for correlations \n",
    "- Experiment with attribute combinations "
   ]
  },
  {
   "cell_type": "code",
   "execution_count": 10,
   "metadata": {},
   "outputs": [],
   "source": [
    "# only look at the train set\n",
    "trees = strat_train_set.copy()"
   ]
  },
  {
   "cell_type": "code",
   "execution_count": 11,
   "metadata": {},
   "outputs": [
    {
     "data": {
      "text/plain": [
       "<AxesSubplot:xlabel='longitude', ylabel='latitude'>"
      ]
     },
     "execution_count": 11,
     "metadata": {},
     "output_type": "execute_result"
    },
    {
     "data": {
      "image/png": "[encoded data removed]",
      "text/plain": [
       "<Figure size 432x288 with 1 Axes>"
      ]
     },
     "metadata": {},
     "output_type": "display_data"
    }
   ],
   "source": [
    "trees.plot(kind=\"scatter\", x=\"longitude\", y=\"latitude\", alpha=0.5)"
   ]
  },
  {
   "cell_type": "code",
   "execution_count": 12,
   "metadata": {},
   "outputs": [
    {
     "data": {
      "text/plain": [
       "<matplotlib.legend.Legend at 0x12d189580>"
      ]
     },
     "execution_count": 12,
     "metadata": {},
     "output_type": "execute_result"
    },
    {
     "data": {
      "image/png": "[encoded data removed]",
      "text/plain": [
       "<Figure size 720x504 with 2 Axes>"
      ]
     },
     "metadata": {},
     "output_type": "display_data"
    }
   ],
   "source": [
    "\n",
    "trees.plot(kind=\"scatter\", x=\"longitude\", y=\"latitude\", alpha=0.4,\n",
    "             s=trees[\"tree_dbh\"], label=\"tree_dbh\", figsize=(10,7),\n",
    "             colorbar=True,\n",
    "             sharex=False)\n",
    "plt.legend()"
   ]
  },
  {
   "cell_type": "code",
   "execution_count": 13,
   "metadata": {},
   "outputs": [
    {
     "data": {
      "text/html": [
       "<div>\n",
       "<style scoped>\n",
       "    .dataframe tbody tr th:only-of-type {\n",
       "        vertical-align: middle;\n",
       "    }\n",
       "\n",
       "    .dataframe tbody tr th {\n",
       "        vertical-align: top;\n",
       "    }\n",
       "\n",
       "    .dataframe thead th {\n",
       "        text-align: right;\n",
       "    }\n",
       "</style>\n",
       "<table border=\"1\" class=\"dataframe\">\n",
       "  <thead>\n",
       "    <tr style=\"text-align: right;\">\n",
       "      <th></th>\n",
       "      <th>tree_dbh</th>\n",
       "      <th>stump_diam</th>\n",
       "      <th>latitude</th>\n",
       "      <th>longitude</th>\n",
       "    </tr>\n",
       "  </thead>\n",
       "  <tbody>\n",
       "    <tr>\n",
       "      <th>tree_dbh</th>\n",
       "      <td>1.000000</td>\n",
       "      <td>-0.126289</td>\n",
       "      <td>-0.082807</td>\n",
       "      <td>0.051527</td>\n",
       "    </tr>\n",
       "    <tr>\n",
       "      <th>stump_diam</th>\n",
       "      <td>-0.126289</td>\n",
       "      <td>1.000000</td>\n",
       "      <td>0.006113</td>\n",
       "      <td>0.023149</td>\n",
       "    </tr>\n",
       "    <tr>\n",
       "      <th>latitude</th>\n",
       "      <td>-0.082807</td>\n",
       "      <td>0.006113</td>\n",
       "      <td>1.000000</td>\n",
       "      <td>0.475753</td>\n",
       "    </tr>\n",
       "    <tr>\n",
       "      <th>longitude</th>\n",
       "      <td>0.051527</td>\n",
       "      <td>0.023149</td>\n",
       "      <td>0.475753</td>\n",
       "      <td>1.000000</td>\n",
       "    </tr>\n",
       "  </tbody>\n",
       "</table>\n",
       "</div>"
      ],
      "text/plain": [
       "            tree_dbh  stump_diam  latitude  longitude\n",
       "tree_dbh    1.000000   -0.126289 -0.082807   0.051527\n",
       "stump_diam -0.126289    1.000000  0.006113   0.023149\n",
       "latitude   -0.082807    0.006113  1.000000   0.475753\n",
       "longitude   0.051527    0.023149  0.475753   1.000000"
      ]
     },
     "execution_count": 13,
     "metadata": {},
     "output_type": "execute_result"
    }
   ],
   "source": [
    "# Looking for correlations (only numeric)\n",
    "corr_matrix = trees.corr()\n",
    "corr_matrix"
   ]
  },
  {
   "cell_type": "markdown",
   "metadata": {},
   "source": [
    "### 4. Prepare the data for machine learning algorithms \n",
    "- Data cleaning \n",
    "- Handle text and categorical attributes \n",
    "- Custom transformers \n",
    "- Feature scaling \n",
    "- Transformation Pipelines "
   ]
  },
  {
   "cell_type": "code",
   "execution_count": 14,
   "metadata": {},
   "outputs": [],
   "source": [
    "# data cleaning \n",
    "trees_train_x = strat_train_set.drop(\"status\", axis=1) # drop labels for training set\n",
    "trees_test_x = strat_test_set.drop(\"status\", axis=1) # drop labels for test set"
   ]
  },
  {
   "cell_type": "code",
   "execution_count": 15,
   "metadata": {},
   "outputs": [],
   "source": [
    "# handle text and categorical attributes\n",
    "\n",
    "# trees_cat = trees[[\"health\", \"spc_latin\"]]\n",
    "\n",
    "# ordinal: if there is a natural order\n",
    "# from sklearn.preprocessing import OrdinalEncoder\n",
    "# ordinal_encoder = OrdinalEncoder()\n",
    "# trees_cat_encoded = ordinal_encoder.fit_transform(trees_cat)\n",
    "\n",
    "# one hot encoding \n",
    "# from sklearn.preprocessing import OneHotEncoder\n",
    "# only linear regression needs to drop first (makes this a dummy variable that is not perfectly correlated)\n",
    "# cat_encoder = OneHotEncoder(drop='first', sparse=False)\n",
    "\n",
    "# trees_1hot = cat_encoder.fit_transform(trees_cat)\n",
    "# trees_1hot"
   ]
  },
  {
   "cell_type": "code",
   "execution_count": 16,
   "metadata": {},
   "outputs": [],
   "source": [
    "# categorical columns\n",
    "# cat_columns = trees.loc[:, ~trees.columns.isin(['longitude', 'latitude', 'tree_dbh', 'stump_diam'])].columns\n",
    "\n",
    "# trees = pd.get_dummies(trees, columns = cat_columns, drop_first=True)\n",
    "# trees"
   ]
  },
  {
   "cell_type": "code",
   "execution_count": 17,
   "metadata": {},
   "outputs": [],
   "source": [
    "# Preprocessing pipeline\n",
    "\n",
    "from sklearn.pipeline import Pipeline\n",
    "from sklearn.impute import SimpleImputer\n",
    "from sklearn.preprocessing import StandardScaler\n",
    "\n",
    "# numerical \n",
    "num_pipeline = Pipeline([\n",
    "        (\"imputer\", SimpleImputer(strategy=\"median\")),\n",
    "        (\"scaler\", StandardScaler())\n",
    "    ])\n",
    "\n",
    "from sklearn.preprocessing import OneHotEncoder\n",
    "\n",
    "# categorical \n",
    "cat_pipeline = Pipeline([\n",
    "        (\"imputer\", SimpleImputer(strategy=\"most_frequent\")),\n",
    "        (\"cat_encoder\", OneHotEncoder(sparse=False, handle_unknown='ignore')), #ignore tells the encoder to ignore new categories by encoding them with 0's\n",
    "    ])\n",
    "\n"
   ]
  },
  {
   "cell_type": "code",
   "execution_count": 18,
   "metadata": {},
   "outputs": [],
   "source": [
    "# numerical and categorial pipelines\n",
    "from sklearn.compose import ColumnTransformer\n",
    "\n",
    "cat_columns = trees_train_x.loc[:, ~trees_train_x.columns.isin(['longitude', 'latitude', 'tree_dbh', 'stump_diam'])].columns.tolist()\n",
    "num_columns = trees_train_x.loc[:, trees_train_x.columns.isin(['longitude', 'latitude', 'tree_dbh', 'stump_diam'])].columns.tolist()\n",
    "\n",
    "preprocess_pipeline = ColumnTransformer([\n",
    "        (\"num\", num_pipeline, num_columns),\n",
    "        (\"cat\", cat_pipeline, cat_columns),\n",
    "    ])"
   ]
  },
  {
   "cell_type": "code",
   "execution_count": 19,
   "metadata": {},
   "outputs": [
    {
     "data": {
      "text/plain": [
       "array([[-0.17598611, -0.1190197 ,  0.65295842, ...,  1.        ,\n",
       "         0.        ,  0.        ],\n",
       "       [-0.56936103, -0.1190197 ,  0.86332264, ...,  0.        ,\n",
       "         1.        ,  0.        ],\n",
       "       [-0.7660485 , -0.1190197 , -0.28682057, ...,  0.        ,\n",
       "         0.        ,  0.        ],\n",
       "       ...,\n",
       "       [-0.66770476, -0.1190197 ,  0.64537728, ...,  0.        ,\n",
       "         1.        ,  0.        ],\n",
       "       [-0.66770476, -0.1190197 , -0.72124186, ...,  0.        ,\n",
       "         0.        ,  0.        ],\n",
       "       [-0.66770476, -0.1190197 , -1.02080468, ...,  0.        ,\n",
       "         0.        ,  0.        ]])"
      ]
     },
     "execution_count": 19,
     "metadata": {},
     "output_type": "execute_result"
    }
   ],
   "source": [
    "X_train = preprocess_pipeline.fit_transform(\n",
    "    trees_train_x[num_columns + cat_columns])\n",
    "X_train"
   ]
  },
  {
   "cell_type": "code",
   "execution_count": 20,
   "metadata": {},
   "outputs": [],
   "source": [
    "# labels\n",
    "y_train = strat_train_set[\"status\"].copy()\n",
    "y_test = strat_test_set[\"status\"].copy()"
   ]
  },
  {
   "cell_type": "markdown",
   "metadata": {},
   "source": [
    "### 5. Select and train a model \n",
    "- Train and evaluate on the training set \n",
    "- Measure performance using:\n",
    "    - cross-validation \n",
    "    - precision \n",
    "    - recall \n",
    "    - f1 score \n",
    "- Note: do not run anything using test set yet!"
   ]
  },
  {
   "cell_type": "markdown",
   "metadata": {},
   "source": [
    "#### multinomial logistic / softmax regression "
   ]
  },
  {
   "cell_type": "markdown",
   "metadata": {},
   "source": [
    "##### <span style='background:blue'> softmax: train on training set </span>"
   ]
  },
  {
   "cell_type": "code",
   "execution_count": 21,
   "metadata": {},
   "outputs": [
    {
     "data": {
      "text/plain": [
       "LogisticRegression(C=10, max_iter=1000, multi_class='multinomial',\n",
       "                   random_state=42)"
      ]
     },
     "execution_count": 21,
     "metadata": {},
     "output_type": "execute_result"
    }
   ],
   "source": [
    "from sklearn.linear_model import LogisticRegression\n",
    "\n",
    "softmax_reg = LogisticRegression(multi_class=\"multinomial\",solver=\"lbfgs\", C=10, random_state=42, max_iter=1000)\n",
    "# multi_class: LogisticRegression uses one-versus-the-rest by default but can be changed to softmax using 'multinomial'\n",
    "# The One-vs-Rest strategy splits a multi-class classification into one binary classification problem per class; i.e. red vs (blue, orange), blue vs (red, orange), orange vs (red, blue)\n",
    "# solver: 'lbfgs' supports softmax\n",
    "# C: l2 regularization by default; the higher the value of C, the less the model is regularized \n",
    "softmax_reg.fit(X_train, y_train)"
   ]
  },
  {
   "cell_type": "markdown",
   "metadata": {},
   "source": [
    "##### <span style='background:blue'> softmax: measure accuracy using cross validation </span>"
   ]
  },
  {
   "cell_type": "code",
   "execution_count": 22,
   "metadata": {},
   "outputs": [
    {
     "name": "stderr",
     "output_type": "stream",
     "text": [
      "[Parallel(n_jobs=1)]: Using backend SequentialBackend with 1 concurrent workers.\n"
     ]
    },
    {
     "name": "stdout",
     "output_type": "stream",
     "text": [
      "[CV] END ................................ score: (test=0.990) total time=   0.7s\n"
     ]
    },
    {
     "name": "stderr",
     "output_type": "stream",
     "text": [
      "[Parallel(n_jobs=1)]: Done   1 out of   1 | elapsed:    0.7s remaining:    0.0s\n"
     ]
    },
    {
     "name": "stdout",
     "output_type": "stream",
     "text": [
      "[CV] END ................................ score: (test=0.990) total time=   0.7s\n"
     ]
    },
    {
     "name": "stderr",
     "output_type": "stream",
     "text": [
      "[Parallel(n_jobs=1)]: Done   2 out of   2 | elapsed:    1.4s remaining:    0.0s\n"
     ]
    },
    {
     "name": "stdout",
     "output_type": "stream",
     "text": [
      "[CV] END ................................ score: (test=0.990) total time=   0.6s\n"
     ]
    },
    {
     "name": "stderr",
     "output_type": "stream",
     "text": [
      "[Parallel(n_jobs=1)]: Done   3 out of   3 | elapsed:    2.0s finished\n"
     ]
    },
    {
     "data": {
      "text/plain": [
       "0.9900001237190857"
      ]
     },
     "execution_count": 22,
     "metadata": {},
     "output_type": "execute_result"
    }
   ],
   "source": [
    "from sklearn.model_selection import cross_val_score\n",
    "\n",
    "score = cross_val_score(softmax_reg, X_train, y_train, cv=3, verbose=3, scoring='accuracy')\n",
    "# cv: if int, number of (Stratified)KFold; convention is K=10 according to Gelman ROS book\n",
    "# scoring: metric; accuracy = ratio of correct predictions\n",
    "# accuracy is generally not preferred metric for classifiers, especially when dealing with skewed datasets (when some classes are much more frequent than others)\n",
    "# ^ predicting 'alive' every time will have high accuracy\n",
    "score.mean()"
   ]
  },
  {
   "cell_type": "code",
   "execution_count": 23,
   "metadata": {},
   "outputs": [
    {
     "data": {
      "text/plain": [
       "Alive    3835\n",
       "Stump      85\n",
       "Dead       80\n",
       "Name: status, dtype: int64"
      ]
     },
     "execution_count": 23,
     "metadata": {},
     "output_type": "execute_result"
    }
   ],
   "source": [
    "# true value counts; use in conjunction with confusion matrix\n",
    "y_train.value_counts()"
   ]
  },
  {
   "cell_type": "markdown",
   "metadata": {},
   "source": [
    "##### <span style='background:blue'> softmax: evaluate performance using cross validation and confusion matrix </span>"
   ]
  },
  {
   "cell_type": "code",
   "execution_count": 24,
   "metadata": {},
   "outputs": [],
   "source": [
    "from sklearn.model_selection import cross_val_predict\n",
    "# performs K-fold cross-val like cross_val_score, but returns the predictions made on each test fold\n",
    "# returns prediction for each instance in the training set using a model that never saw the data during training\n",
    "\n",
    "y_train_pred = cross_val_predict(softmax_reg, X_train, y_train, cv=3)"
   ]
  },
  {
   "cell_type": "code",
   "execution_count": 25,
   "metadata": {},
   "outputs": [
    {
     "data": {
      "text/plain": [
       "array([[3816,   19,    0],\n",
       "       [  20,   60,    0],\n",
       "       [   0,    1,   84]])"
      ]
     },
     "execution_count": 25,
     "metadata": {},
     "output_type": "execute_result"
    }
   ],
   "source": [
    "# how do our predicted labels match the correct labels?\n",
    "# Note: confusion matrix, precision, recall and f1 metrics most important on test set\n",
    "from sklearn.metrics import confusion_matrix\n",
    "\n",
    "conf_mx = confusion_matrix(y_train, y_train_pred)\n",
    "conf_mx # gets alive right 390/393 times (guess dead 3 times), 1/6 on dead (guesses alive), and gets the one stump incorrect :("
   ]
  },
  {
   "cell_type": "code",
   "execution_count": 26,
   "metadata": {},
   "outputs": [
    {
     "data": {
      "image/png": "[encoded data removed]",
      "text/plain": [
       "<Figure size 288x288 with 1 Axes>"
      ]
     },
     "metadata": {},
     "output_type": "display_data"
    }
   ],
   "source": [
    "# confusion matrix plot\n",
    "# main diagonal shows correct classification\n",
    "plt.matshow(conf_mx, cmap=plt.cm.gray)\n",
    "plt.show()"
   ]
  },
  {
   "cell_type": "markdown",
   "metadata": {},
   "source": [
    "##### <span style='background:blue'> softmax: precision and recall </span>"
   ]
  },
  {
   "cell_type": "code",
   "execution_count": 27,
   "metadata": {},
   "outputs": [
    {
     "name": "stdout",
     "output_type": "stream",
     "text": [
      "Precision: 91.49%\n",
      "Recall: 91.11%\n"
     ]
    }
   ],
   "source": [
    "# precision and recall\n",
    "# precision: accuracy of the positive predictions; precision = TP / (TP + FP); (TP = true positives, FP = false positives)\n",
    "# recall: aka sensitivty or true positive rate; TP / (TP + FN); (FN = false negatives)\n",
    "from sklearn.metrics import precision_score, recall_score\n",
    "\n",
    "print(\"Precision: {:.2f}%\".format(100 * precision_score(y_train, y_train_pred, average='macro')))\n",
    "print(\"Recall: {:.2f}%\".format(100 * recall_score(y_train, y_train_pred, average='macro')))\n",
    "# average: 'macro' assumes all classes are of equal importance; compute for each individual label and then take average (average of alive, dead, stump)\n",
    "# ^ 'weighted' gives each label a weight equal to its support (i.e. number of instances with that target label)\n",
    "# ^ 'micro' gives 391 / 400"
   ]
  },
  {
   "cell_type": "code",
   "execution_count": 28,
   "metadata": {},
   "outputs": [
    {
     "data": {
      "text/plain": [
       "0.9129995857756755"
      ]
     },
     "execution_count": 28,
     "metadata": {},
     "output_type": "execute_result"
    }
   ],
   "source": [
    "# F1 score\n",
    "from sklearn.metrics import f1_score\n",
    "\n",
    "# computes f1 score for each individual label then computes the average score\n",
    "f1_score(y_train, y_train_pred, average='macro')"
   ]
  },
  {
   "cell_type": "markdown",
   "metadata": {},
   "source": [
    "#### support vector machine (SVM) classifier "
   ]
  },
  {
   "cell_type": "markdown",
   "metadata": {},
   "source": [
    "##### <span style='background:blue'> svm: train on training set </span>"
   ]
  },
  {
   "cell_type": "code",
   "execution_count": 29,
   "metadata": {},
   "outputs": [
    {
     "data": {
      "text/plain": [
       "SVC(C=1, gamma='auto', random_state=42)"
      ]
     },
     "execution_count": 29,
     "metadata": {},
     "output_type": "execute_result"
    }
   ],
   "source": [
    "# SVM good for classification of small- or medium- sized datasets \n",
    "from sklearn.svm import SVC\n",
    "\n",
    "svm_clf = SVC(kernel = 'rbf', gamma=\"auto\", C=1, random_state=42)\n",
    "# C: regularization parameter (default = 1); if model is overfitting, regularize it by reducing C\n",
    "# gamma : (default = 'scale'); acts like a regulatization parameter - if overfitting, reduce it; if underfitting, increase it\n",
    "# ^ increasing gamma makes makes each instances range of influence smaller - decision boundary is more irregular\n",
    "# ^ dereasing gamma makes each instance have a larger range of influence and the decision boundary smoother\n",
    "# kernel: (default = 'rbf'); 'rbf' is Gaussian RBF \n",
    "# ^ rule of thumb, start with linear kernel (especially if training set is very large and has many feautures), if training set not too large try rbf\n",
    "# degree: (default = 3); degree of polynomial function (if kernal = 'poly')\n",
    "# coef0: (default = 0); only relevant for 'poly' and 'sigmoid'; in poly, controls how much model is influenced by high- vs low- degree polynomials\n",
    "# Note: LinearSVC much faster than SVC(kernal = 'linear')\n",
    "\n",
    "svm_clf.fit(X_train, y_train)"
   ]
  },
  {
   "cell_type": "markdown",
   "metadata": {},
   "source": [
    "##### <span style='background:blue'> svm: measure accuracy using cross validation </span>"
   ]
  },
  {
   "cell_type": "code",
   "execution_count": 30,
   "metadata": {},
   "outputs": [
    {
     "name": "stderr",
     "output_type": "stream",
     "text": [
      "[Parallel(n_jobs=1)]: Using backend SequentialBackend with 1 concurrent workers.\n",
      "[Parallel(n_jobs=1)]: Done   1 out of   1 | elapsed:    0.1s remaining:    0.0s\n"
     ]
    },
    {
     "name": "stdout",
     "output_type": "stream",
     "text": [
      "[CV] END ................................ score: (test=0.974) total time=   0.1s\n",
      "[CV] END ................................ score: (test=0.974) total time=   0.1s\n",
      "[CV] END ................................ score: (test=0.973) total time=   0.1s\n"
     ]
    },
    {
     "name": "stderr",
     "output_type": "stream",
     "text": [
      "[Parallel(n_jobs=1)]: Done   2 out of   2 | elapsed:    0.2s remaining:    0.0s\n",
      "[Parallel(n_jobs=1)]: Done   3 out of   3 | elapsed:    0.3s finished\n"
     ]
    },
    {
     "data": {
      "text/plain": [
       "0.9737499967195697"
      ]
     },
     "execution_count": 30,
     "metadata": {},
     "output_type": "execute_result"
    }
   ],
   "source": [
    "from sklearn.model_selection import cross_val_score\n",
    "\n",
    "score = cross_val_score(svm_clf, X_train, y_train, cv=3, verbose=3, scoring='accuracy')\n",
    "# cv: if int, number of (Stratified)KFold\n",
    "# scoring: metric; accuracy = ratio of correct predictions\n",
    "# accuracy is generally not preferred metric for classifiers, especially when dealing with skewed datasets (when some classes are much more frequent than others)\n",
    "# ^ predicting 'alive' every time will have high accuracy\n",
    "score.mean()"
   ]
  },
  {
   "cell_type": "markdown",
   "metadata": {},
   "source": [
    "##### <span style='background:blue'> svm: evaluate performance using cross validation and confusion matrix </span>"
   ]
  },
  {
   "cell_type": "code",
   "execution_count": 31,
   "metadata": {},
   "outputs": [],
   "source": [
    "from sklearn.model_selection import cross_val_predict\n",
    "# performs K-fold cross-val like cross_val_score, but returns the predictions made on each test fold\n",
    "# returns prediction for each instance in the training set using a model that never saw the data during training\n",
    "\n",
    "y_train_pred = cross_val_predict(svm_clf, X_train, y_train, cv=3)"
   ]
  },
  {
   "cell_type": "code",
   "execution_count": 32,
   "metadata": {},
   "outputs": [
    {
     "data": {
      "text/plain": [
       "array([[3835,    0,    0],\n",
       "       [  80,    0,    0],\n",
       "       [  25,    0,   60]])"
      ]
     },
     "execution_count": 32,
     "metadata": {},
     "output_type": "execute_result"
    }
   ],
   "source": [
    "# how do our predicted labels match the correct labels?\n",
    "# Note: confusion matrix, precision, recall and f1 metrics most important on test set\n",
    "from sklearn.metrics import confusion_matrix\n",
    "\n",
    "conf_mx = confusion_matrix(y_train, y_train_pred)\n",
    "conf_mx # gets alive right every time, 0% on dead (guesses alive), and gets the one stump incorrect :("
   ]
  },
  {
   "cell_type": "markdown",
   "metadata": {},
   "source": [
    "##### <span style='background:blue'> svm: precision and recall </span>"
   ]
  },
  {
   "cell_type": "code",
   "execution_count": 33,
   "metadata": {},
   "outputs": [
    {
     "name": "stdout",
     "output_type": "stream",
     "text": [
      "Precision: 65.78%\n",
      "Recall: 56.86%\n"
     ]
    },
    {
     "name": "stderr",
     "output_type": "stream",
     "text": [
      "/Users/nmontalbano/Library/Python/3.8/lib/python/site-packages/sklearn/metrics/_classification.py:1318: UndefinedMetricWarning: Precision is ill-defined and being set to 0.0 in labels with no predicted samples. Use `zero_division` parameter to control this behavior.\n",
      "  _warn_prf(average, modifier, msg_start, len(result))\n"
     ]
    }
   ],
   "source": [
    "# precision and recall\n",
    "# precision: accuracy of the positive predictions; precision = TP / (TP + FP); (TP = true positives, FP = false positives)\n",
    "# recall: aka sensitivty or true positive rate; TP / (TP + FN); (FN = false negatives)\n",
    "from sklearn.metrics import precision_score, recall_score\n",
    "\n",
    "print(\"Precision: {:.2f}%\".format(100 * precision_score(y_train, y_train_pred, average='macro')))\n",
    "print(\"Recall: {:.2f}%\".format(100 * recall_score(y_train, y_train_pred, average='macro')))\n",
    "# average: 'macro' assumes all classes are of equal importance; compute for each individual label and then take average\n",
    "# ^ 'weighted' gives each label a weight equal to its support (i.e. number of instances with that target label)\n",
    "# ^ 'micro' gives 391 / 400"
   ]
  },
  {
   "cell_type": "code",
   "execution_count": 34,
   "metadata": {},
   "outputs": [
    {
     "data": {
      "text/plain": [
       "0.6046937945818088"
      ]
     },
     "execution_count": 34,
     "metadata": {},
     "output_type": "execute_result"
    }
   ],
   "source": [
    "# F1 score\n",
    "from sklearn.metrics import f1_score\n",
    "\n",
    "# computes f1 score for each individual label then computes the average score\n",
    "f1_score(y_train, y_train_pred, average='macro')"
   ]
  },
  {
   "cell_type": "code",
   "execution_count": 35,
   "metadata": {},
   "outputs": [
    {
     "name": "stderr",
     "output_type": "stream",
     "text": [
      "/Users/nmontalbano/Library/Python/3.8/lib/python/site-packages/sklearn/metrics/_classification.py:1318: UndefinedMetricWarning: Precision and F-score are ill-defined and being set to 0.0 in labels with no predicted samples. Use `zero_division` parameter to control this behavior.\n",
      "  _warn_prf(average, modifier, msg_start, len(result))\n",
      "/Users/nmontalbano/Library/Python/3.8/lib/python/site-packages/sklearn/metrics/_classification.py:1318: UndefinedMetricWarning: Precision and F-score are ill-defined and being set to 0.0 in labels with no predicted samples. Use `zero_division` parameter to control this behavior.\n",
      "  _warn_prf(average, modifier, msg_start, len(result))\n"
     ]
    },
    {
     "name": "stdout",
     "output_type": "stream",
     "text": [
      "              precision    recall  f1-score   support\n",
      "\n",
      "       Alive       0.97      1.00      0.99      3835\n",
      "        Dead       0.00      0.00      0.00        80\n",
      "       Stump       1.00      0.71      0.83        85\n",
      "\n",
      "    accuracy                           0.97      4000\n",
      "   macro avg       0.66      0.57      0.60      4000\n",
      "weighted avg       0.95      0.97      0.96      4000\n",
      "\n"
     ]
    },
    {
     "name": "stderr",
     "output_type": "stream",
     "text": [
      "/Users/nmontalbano/Library/Python/3.8/lib/python/site-packages/sklearn/metrics/_classification.py:1318: UndefinedMetricWarning: Precision and F-score are ill-defined and being set to 0.0 in labels with no predicted samples. Use `zero_division` parameter to control this behavior.\n",
      "  _warn_prf(average, modifier, msg_start, len(result))\n"
     ]
    }
   ],
   "source": [
    "from sklearn.metrics import classification_report\n",
    "print(classification_report(y_train, y_train_pred))"
   ]
  },
  {
   "cell_type": "markdown",
   "metadata": {},
   "source": [
    "#### random forest classifier"
   ]
  },
  {
   "cell_type": "markdown",
   "metadata": {},
   "source": [
    "##### <span style='background:blue'> random forest: train on training set </span>"
   ]
  },
  {
   "cell_type": "code",
   "execution_count": 36,
   "metadata": {},
   "outputs": [
    {
     "data": {
      "text/plain": [
       "RandomForestClassifier(max_leaf_nodes=16, n_estimators=500, n_jobs=-1,\n",
       "                       random_state=42)"
      ]
     },
     "execution_count": 36,
     "metadata": {},
     "output_type": "execute_result"
    }
   ],
   "source": [
    "from sklearn.ensemble import RandomForestClassifier\n",
    "\n",
    "rnd_clf = RandomForestClassifier(n_estimators=500, max_leaf_nodes=16, n_jobs=-1, random_state=42)\n",
    "# n_estimators: (default = 100); number of trees in the forest\n",
    "# max_leaf_nodes: (default = None); maximum number of leaf nodes per tree\n",
    "# n_jobs: (default = None); number of jobs to run in parallel; -1 means all available CPU cores\n",
    "\n",
    "rnd_clf.fit(X_train, y_train)"
   ]
  },
  {
   "cell_type": "markdown",
   "metadata": {},
   "source": [
    "##### <span style='background:blue'> random forest: measure accuracy using cross validation </span>"
   ]
  },
  {
   "cell_type": "code",
   "execution_count": 37,
   "metadata": {},
   "outputs": [
    {
     "name": "stderr",
     "output_type": "stream",
     "text": [
      "[Parallel(n_jobs=1)]: Using backend SequentialBackend with 1 concurrent workers.\n"
     ]
    },
    {
     "name": "stdout",
     "output_type": "stream",
     "text": [
      "[CV] END ................................ score: (test=0.981) total time=   2.3s\n"
     ]
    },
    {
     "name": "stderr",
     "output_type": "stream",
     "text": [
      "[Parallel(n_jobs=1)]: Done   1 out of   1 | elapsed:    2.3s remaining:    0.0s\n"
     ]
    },
    {
     "name": "stdout",
     "output_type": "stream",
     "text": [
      "[CV] END ................................ score: (test=0.980) total time=   0.7s\n"
     ]
    },
    {
     "name": "stderr",
     "output_type": "stream",
     "text": [
      "[Parallel(n_jobs=1)]: Done   2 out of   2 | elapsed:    3.0s remaining:    0.0s\n"
     ]
    },
    {
     "name": "stdout",
     "output_type": "stream",
     "text": [
      "[CV] END ................................ score: (test=0.981) total time=   0.7s\n"
     ]
    },
    {
     "name": "stderr",
     "output_type": "stream",
     "text": [
      "[Parallel(n_jobs=1)]: Done   3 out of   3 | elapsed:    3.7s finished\n"
     ]
    },
    {
     "data": {
      "text/plain": [
       "0.9809999351412065"
      ]
     },
     "execution_count": 37,
     "metadata": {},
     "output_type": "execute_result"
    }
   ],
   "source": [
    "from sklearn.model_selection import cross_val_score\n",
    "\n",
    "score = cross_val_score(rnd_clf, X_train, y_train, cv=3, verbose=3, scoring='accuracy')\n",
    "# cv: if int, number of (Stratified)KFold\n",
    "# scoring: metric; accuracy = ratio of correct predictions\n",
    "# accuracy is generally not preferred metric for classifiers, especially when dealing with skewed datasets (when some classes are much more frequent than others)\n",
    "# ^ predicting 'alive' every time will have high accuracy\n",
    "score.mean()"
   ]
  },
  {
   "cell_type": "markdown",
   "metadata": {},
   "source": [
    "##### <span style='background:blue'> random forest: evaluate performance using cross validation and confusion matrix </span>"
   ]
  },
  {
   "cell_type": "code",
   "execution_count": 38,
   "metadata": {},
   "outputs": [],
   "source": [
    "from sklearn.model_selection import cross_val_predict\n",
    "# performs K-fold cross-val like cross_val_score, but returns the predictions made on each test fold\n",
    "# returns prediction for each instance in the training set using a model that never saw the data during training\n",
    "\n",
    "y_train_pred = cross_val_predict(rnd_clf, X_train, y_train, cv=3)"
   ]
  },
  {
   "cell_type": "code",
   "execution_count": 39,
   "metadata": {},
   "outputs": [
    {
     "data": {
      "text/plain": [
       "array([[3835,    0,    0],\n",
       "       [  74,    4,    2],\n",
       "       [   0,    0,   85]])"
      ]
     },
     "execution_count": 39,
     "metadata": {},
     "output_type": "execute_result"
    }
   ],
   "source": [
    "# how do our predicted labels match the correct labels?\n",
    "# Note: confusion matrix, precision, recall and f1 metrics most important on test set\n",
    "from sklearn.metrics import confusion_matrix\n",
    "\n",
    "conf_mx = confusion_matrix(y_train, y_train_pred)\n",
    "conf_mx # gets alive right every time, 0% on dead (guesses alive), and gets the one stump incorrect :("
   ]
  },
  {
   "cell_type": "code",
   "execution_count": 40,
   "metadata": {},
   "outputs": [
    {
     "name": "stdout",
     "output_type": "stream",
     "text": [
      "Precision: 98.60%\n",
      "Recall: 68.33%\n"
     ]
    }
   ],
   "source": [
    "# precision and recall\n",
    "# precision: accuracy of the positive predictions; precision = TP / (TP + FP); (TP = true positives, FP = false positives)\n",
    "# recall: aka sensitivty or true positive rate; TP / (TP + FN); (FN = false negatives)\n",
    "from sklearn.metrics import precision_score, recall_score\n",
    "\n",
    "print(\"Precision: {:.2f}%\".format(100 * precision_score(y_train, y_train_pred, average='macro')))\n",
    "print(\"Recall: {:.2f}%\".format(100 * recall_score(y_train, y_train_pred, average='macro')))\n",
    "# average: 'macro' assumes all classes are of equal importance; compute for each individual label and then take average\n",
    "# ^ 'weighted' gives each label a weight equal to its support (i.e. number of instances with that target label)\n",
    "# ^ 'micro' gives 391 / 400"
   ]
  },
  {
   "cell_type": "code",
   "execution_count": 41,
   "metadata": {},
   "outputs": [
    {
     "data": {
      "text/plain": [
       "0.6913514677124614"
      ]
     },
     "execution_count": 41,
     "metadata": {},
     "output_type": "execute_result"
    }
   ],
   "source": [
    "# F1 score\n",
    "from sklearn.metrics import f1_score\n",
    "\n",
    "# computes f1 score for each individual label then computes the average score\n",
    "f1_score(y_train, y_train_pred, average='macro')"
   ]
  },
  {
   "cell_type": "code",
   "execution_count": 42,
   "metadata": {},
   "outputs": [
    {
     "name": "stdout",
     "output_type": "stream",
     "text": [
      "              precision    recall  f1-score   support\n",
      "\n",
      "       Alive       0.98      1.00      0.99      3835\n",
      "        Dead       1.00      0.05      0.10        80\n",
      "       Stump       0.98      1.00      0.99        85\n",
      "\n",
      "    accuracy                           0.98      4000\n",
      "   macro avg       0.99      0.68      0.69      4000\n",
      "weighted avg       0.98      0.98      0.97      4000\n",
      "\n"
     ]
    }
   ],
   "source": [
    "from sklearn.metrics import classification_report\n",
    "print(classification_report(y_train, y_train_pred))"
   ]
  },
  {
   "cell_type": "markdown",
   "metadata": {},
   "source": [
    "#### k-nearest neighbors (kNN) [fit code]"
   ]
  },
  {
   "cell_type": "code",
   "execution_count": 43,
   "metadata": {},
   "outputs": [
    {
     "data": {
      "text/plain": [
       "KNeighborsClassifier()"
      ]
     },
     "execution_count": 43,
     "metadata": {},
     "output_type": "execute_result"
    }
   ],
   "source": [
    "from sklearn.neighbors import KNeighborsClassifier\n",
    "\n",
    "knn = KNeighborsClassifier(n_neighbors=5)\n",
    "# k_neighbors: (default = 5); number of nearest neighbors to use\n",
    "# weights: (default = 'uniform'); weighting function to use; 'uniform' = uniform weights; 'distance' = weights points inversely proportional to distance\n",
    "# algorithm: (default = 'auto'); algorithm to use\n",
    "\n",
    "knn.fit(X_train, y_train)"
   ]
  },
  {
   "cell_type": "markdown",
   "metadata": {},
   "source": [
    "#### AdaBoost [fit code]"
   ]
  },
  {
   "cell_type": "code",
   "execution_count": 44,
   "metadata": {},
   "outputs": [
    {
     "data": {
      "text/plain": [
       "AdaBoostClassifier(base_estimator=DecisionTreeClassifier(max_depth=1),\n",
       "                   learning_rate=0.5, n_estimators=200, random_state=42)"
      ]
     },
     "execution_count": 44,
     "metadata": {},
     "output_type": "execute_result"
    }
   ],
   "source": [
    "from sklearn.ensemble import AdaBoostClassifier\n",
    "from sklearn.tree import DecisionTreeClassifier\n",
    "\n",
    "ada_clf = AdaBoostClassifier(\n",
    "    DecisionTreeClassifier(max_depth=1), n_estimators=200,\n",
    "    algorithm=\"SAMME.R\", learning_rate=0.5, random_state=42)\n",
    "# base_estimator: (default = None); base estimator from which the boosted ensemble is built; if None, then the base estimator is a decision tree classifier with maximum depth 1\n",
    "# n_estimators: (default = 50); maximum number of estimators at which boosting is terminated. In case of perfect fit, the learning procedure is stopped early.\n",
    "\n",
    "ada_clf.fit(X_train, y_train)"
   ]
  },
  {
   "cell_type": "markdown",
   "metadata": {},
   "source": [
    "#### xgboost [fit code]"
   ]
  },
  {
   "cell_type": "code",
   "execution_count": 45,
   "metadata": {},
   "outputs": [
    {
     "name": "stderr",
     "output_type": "stream",
     "text": [
      "/Users/nmontalbano/Library/Python/3.8/lib/python/site-packages/xgboost/sklearn.py:1224: UserWarning: The use of label encoder in XGBClassifier is deprecated and will be removed in a future release. To remove this warning, do the following: 1) Pass option use_label_encoder=False when constructing XGBClassifier object; and 2) Encode your labels (y) as integers starting with 0, i.e. 0, 1, 2, ..., [num_class - 1].\n",
      "  warnings.warn(label_encoder_deprecation_msg, UserWarning)\n"
     ]
    },
    {
     "name": "stdout",
     "output_type": "stream",
     "text": [
      "[10:25:00] WARNING: /Users/runner/work/xgboost/xgboost/src/learner.cc:1115: Starting in XGBoost 1.3.0, the default evaluation metric used with the objective 'multi:softprob' was changed from 'merror' to 'mlogloss'. Explicitly set eval_metric if you'd like to restore the old behavior.\n"
     ]
    },
    {
     "data": {
      "text/plain": [
       "XGBClassifier(base_score=0.5, booster='gbtree', colsample_bylevel=1,\n",
       "              colsample_bynode=1, colsample_bytree=1, enable_categorical=False,\n",
       "              gamma=0, gpu_id=-1, importance_type=None,\n",
       "              interaction_constraints='', learning_rate=0.1, max_delta_step=0,\n",
       "              max_depth=3, min_child_weight=1, missing=nan,\n",
       "              monotone_constraints='()', n_estimators=1000, n_jobs=12,\n",
       "              num_parallel_tree=1, objective='multi:softprob', predictor='auto',\n",
       "              random_state=42, reg_alpha=0, reg_lambda=1, scale_pos_weight=None,\n",
       "              subsample=1, tree_method='exact', validate_parameters=1,\n",
       "              verbosity=None)"
      ]
     },
     "execution_count": 45,
     "metadata": {},
     "output_type": "execute_result"
    }
   ],
   "source": [
    "import xgboost as xgb\n",
    "\n",
    "xgb_cl = xgb.XGBClassifier(objective='multi:softmax', n_estimators=1000, max_depth=3, learning_rate=0.1, random_state=42)\n",
    "# evals: (default = ());  List of validation sets for which metrics will evaluated during training.\n",
    "# early_stopping_rounds: (default = None); Activates early stopping. Validation metric needs to improve at least once in every early_stopping_rounds round(s) to continue training. Requires at least one item in evals\n",
    "\n",
    "xgb_cl.fit(X_train, y_train)\n",
    "\n",
    "# https://xgboost.readthedocs.io/en/latest/tutorials/model.html\n",
    "# xgboost refers to the engineering goal to push the limit of computations resources for boosted tree algorithms\n",
    "# model is 'regularized gradient boosting'"
   ]
  },
  {
   "cell_type": "markdown",
   "metadata": {},
   "source": [
    "### 6. Fine-tune the model \n",
    "- Grid search\n",
    "- Randomized search \n",
    "- Ensemble methods \n",
    "- Analyze the best models and their errors\n",
    "- Evaluate your systems on the test set "
   ]
  },
  {
   "cell_type": "markdown",
   "metadata": {},
   "source": [
    "#### grid search (svm)"
   ]
  },
  {
   "cell_type": "code",
   "execution_count": 46,
   "metadata": {},
   "outputs": [
    {
     "name": "stdout",
     "output_type": "stream",
     "text": [
      "Fitting 5 folds for each of 50 candidates, totalling 250 fits\n",
      "[CV 1/5] END ........C=0.1, gamma=1, kernel=rbf;, score=0.959 total time=  11.3s\n",
      "[CV 2/5] END ........C=0.1, gamma=1, kernel=rbf;, score=0.959 total time=  14.7s\n",
      "[CV 3/5] END ........C=0.1, gamma=1, kernel=rbf;, score=0.959 total time=  18.8s\n",
      "[CV 4/5] END ........C=0.1, gamma=1, kernel=rbf;, score=0.959 total time=  18.7s\n",
      "[CV 5/5] END ........C=0.1, gamma=1, kernel=rbf;, score=0.959 total time=  19.2s\n",
      "[CV 1/5] END .....C=0.1, gamma=1, kernel=linear;, score=0.984 total time=   0.5s\n",
      "[CV 2/5] END .....C=0.1, gamma=1, kernel=linear;, score=0.983 total time=   0.6s\n",
      "[CV 3/5] END .....C=0.1, gamma=1, kernel=linear;, score=0.983 total time=   0.6s\n",
      "[CV 4/5] END .....C=0.1, gamma=1, kernel=linear;, score=0.980 total time=   0.5s\n",
      "[CV 5/5] END .....C=0.1, gamma=1, kernel=linear;, score=0.983 total time=   0.6s\n",
      "[CV 1/5] END ......C=0.1, gamma=0.1, kernel=rbf;, score=0.973 total time=   1.6s\n",
      "[CV 2/5] END ......C=0.1, gamma=0.1, kernel=rbf;, score=0.975 total time=   1.6s\n",
      "[CV 3/5] END ......C=0.1, gamma=0.1, kernel=rbf;, score=0.973 total time=   1.7s\n",
      "[CV 4/5] END ......C=0.1, gamma=0.1, kernel=rbf;, score=0.973 total time=   1.7s\n",
      "[CV 5/5] END ......C=0.1, gamma=0.1, kernel=rbf;, score=0.975 total time=   1.6s\n",
      "[CV 1/5] END ...C=0.1, gamma=0.1, kernel=linear;, score=0.984 total time=   0.6s\n",
      "[CV 2/5] END ...C=0.1, gamma=0.1, kernel=linear;, score=0.983 total time=   0.6s\n",
      "[CV 3/5] END ...C=0.1, gamma=0.1, kernel=linear;, score=0.983 total time=   0.6s\n",
      "[CV 4/5] END ...C=0.1, gamma=0.1, kernel=linear;, score=0.980 total time=   0.6s\n",
      "[CV 5/5] END ...C=0.1, gamma=0.1, kernel=linear;, score=0.983 total time=   0.5s\n",
      "[CV 1/5] END .....C=0.1, gamma=0.01, kernel=rbf;, score=0.970 total time=   1.1s\n",
      "[CV 2/5] END .....C=0.1, gamma=0.01, kernel=rbf;, score=0.971 total time=   1.2s\n",
      "[CV 3/5] END .....C=0.1, gamma=0.01, kernel=rbf;, score=0.971 total time=   1.2s\n",
      "[CV 4/5] END .....C=0.1, gamma=0.01, kernel=rbf;, score=0.974 total time=   1.2s\n",
      "[CV 5/5] END .....C=0.1, gamma=0.01, kernel=rbf;, score=0.973 total time=   1.1s\n",
      "[CV 1/5] END ..C=0.1, gamma=0.01, kernel=linear;, score=0.984 total time=   0.6s\n",
      "[CV 2/5] END ..C=0.1, gamma=0.01, kernel=linear;, score=0.983 total time=   0.6s\n",
      "[CV 3/5] END ..C=0.1, gamma=0.01, kernel=linear;, score=0.983 total time=   0.6s\n",
      "[CV 4/5] END ..C=0.1, gamma=0.01, kernel=linear;, score=0.980 total time=   0.6s\n",
      "[CV 5/5] END ..C=0.1, gamma=0.01, kernel=linear;, score=0.983 total time=   0.6s\n",
      "[CV 1/5] END ....C=0.1, gamma=0.001, kernel=rbf;, score=0.959 total time=   1.1s\n",
      "[CV 2/5] END ....C=0.1, gamma=0.001, kernel=rbf;, score=0.960 total time=   1.1s\n",
      "[CV 3/5] END ....C=0.1, gamma=0.001, kernel=rbf;, score=0.960 total time=   1.1s\n",
      "[CV 4/5] END ....C=0.1, gamma=0.001, kernel=rbf;, score=0.960 total time=   1.1s\n",
      "[CV 5/5] END ....C=0.1, gamma=0.001, kernel=rbf;, score=0.959 total time=   1.2s\n",
      "[CV 1/5] END .C=0.1, gamma=0.001, kernel=linear;, score=0.984 total time=   0.6s\n",
      "[CV 2/5] END .C=0.1, gamma=0.001, kernel=linear;, score=0.983 total time=   0.7s\n",
      "[CV 3/5] END .C=0.1, gamma=0.001, kernel=linear;, score=0.983 total time=   0.6s\n",
      "[CV 4/5] END .C=0.1, gamma=0.001, kernel=linear;, score=0.980 total time=   0.6s\n",
      "[CV 5/5] END .C=0.1, gamma=0.001, kernel=linear;, score=0.983 total time=   0.6s\n",
      "[CV 1/5] END ...C=0.1, gamma=0.0001, kernel=rbf;, score=0.959 total time=   0.9s\n",
      "[CV 2/5] END ...C=0.1, gamma=0.0001, kernel=rbf;, score=0.959 total time=   1.0s\n",
      "[CV 3/5] END ...C=0.1, gamma=0.0001, kernel=rbf;, score=0.959 total time=   0.9s\n",
      "[CV 4/5] END ...C=0.1, gamma=0.0001, kernel=rbf;, score=0.959 total time=   1.0s\n",
      "[CV 5/5] END ...C=0.1, gamma=0.0001, kernel=rbf;, score=0.959 total time=   0.9s\n",
      "[CV 1/5] END C=0.1, gamma=0.0001, kernel=linear;, score=0.984 total time=   0.6s\n",
      "[CV 2/5] END C=0.1, gamma=0.0001, kernel=linear;, score=0.983 total time=   0.6s\n",
      "[CV 3/5] END C=0.1, gamma=0.0001, kernel=linear;, score=0.983 total time=   0.7s\n",
      "[CV 4/5] END C=0.1, gamma=0.0001, kernel=linear;, score=0.980 total time=   0.6s\n",
      "[CV 5/5] END C=0.1, gamma=0.0001, kernel=linear;, score=0.983 total time=   0.6s\n",
      "[CV 1/5] END ..........C=1, gamma=1, kernel=rbf;, score=0.976 total time=  23.2s\n",
      "[CV 2/5] END ..........C=1, gamma=1, kernel=rbf;, score=0.970 total time=  23.4s\n",
      "[CV 3/5] END ..........C=1, gamma=1, kernel=rbf;, score=0.976 total time=  22.0s\n",
      "[CV 4/5] END ..........C=1, gamma=1, kernel=rbf;, score=0.973 total time=  22.4s\n",
      "[CV 5/5] END ..........C=1, gamma=1, kernel=rbf;, score=0.978 total time=  22.4s\n",
      "[CV 1/5] END .......C=1, gamma=1, kernel=linear;, score=0.990 total time=   0.5s\n",
      "[CV 2/5] END .......C=1, gamma=1, kernel=linear;, score=0.988 total time=   0.5s\n",
      "[CV 3/5] END .......C=1, gamma=1, kernel=linear;, score=0.990 total time=   0.5s\n",
      "[CV 4/5] END .......C=1, gamma=1, kernel=linear;, score=0.985 total time=   0.5s\n",
      "[CV 5/5] END .......C=1, gamma=1, kernel=linear;, score=0.991 total time=   0.5s\n",
      "[CV 1/5] END ........C=1, gamma=0.1, kernel=rbf;, score=0.988 total time=   1.4s\n",
      "[CV 2/5] END ........C=1, gamma=0.1, kernel=rbf;, score=0.989 total time=   1.4s\n",
      "[CV 3/5] END ........C=1, gamma=0.1, kernel=rbf;, score=0.989 total time=   1.4s\n",
      "[CV 4/5] END ........C=1, gamma=0.1, kernel=rbf;, score=0.983 total time=   1.4s\n",
      "[CV 5/5] END ........C=1, gamma=0.1, kernel=rbf;, score=0.989 total time=   1.3s\n",
      "[CV 1/5] END .....C=1, gamma=0.1, kernel=linear;, score=0.990 total time=   0.5s\n",
      "[CV 2/5] END .....C=1, gamma=0.1, kernel=linear;, score=0.988 total time=   0.5s\n",
      "[CV 3/5] END .....C=1, gamma=0.1, kernel=linear;, score=0.990 total time=   0.6s\n",
      "[CV 4/5] END .....C=1, gamma=0.1, kernel=linear;, score=0.985 total time=   0.5s\n",
      "[CV 5/5] END .....C=1, gamma=0.1, kernel=linear;, score=0.991 total time=   0.5s\n",
      "[CV 1/5] END .......C=1, gamma=0.01, kernel=rbf;, score=0.975 total time=   0.9s\n",
      "[CV 2/5] END .......C=1, gamma=0.01, kernel=rbf;, score=0.976 total time=   0.9s\n",
      "[CV 3/5] END .......C=1, gamma=0.01, kernel=rbf;, score=0.978 total time=   0.9s\n",
      "[CV 4/5] END .......C=1, gamma=0.01, kernel=rbf;, score=0.976 total time=   0.9s\n",
      "[CV 5/5] END .......C=1, gamma=0.01, kernel=rbf;, score=0.980 total time=   0.9s\n",
      "[CV 1/5] END ....C=1, gamma=0.01, kernel=linear;, score=0.990 total time=   0.5s\n",
      "[CV 2/5] END ....C=1, gamma=0.01, kernel=linear;, score=0.988 total time=   0.5s\n",
      "[CV 3/5] END ....C=1, gamma=0.01, kernel=linear;, score=0.990 total time=   0.6s\n",
      "[CV 4/5] END ....C=1, gamma=0.01, kernel=linear;, score=0.985 total time=   0.5s\n",
      "[CV 5/5] END ....C=1, gamma=0.01, kernel=linear;, score=0.991 total time=   0.5s\n",
      "[CV 1/5] END ......C=1, gamma=0.001, kernel=rbf;, score=0.970 total time=   1.0s\n",
      "[CV 2/5] END ......C=1, gamma=0.001, kernel=rbf;, score=0.971 total time=   1.0s\n",
      "[CV 3/5] END ......C=1, gamma=0.001, kernel=rbf;, score=0.970 total time=   1.1s\n",
      "[CV 4/5] END ......C=1, gamma=0.001, kernel=rbf;, score=0.974 total time=   1.1s\n",
      "[CV 5/5] END ......C=1, gamma=0.001, kernel=rbf;, score=0.973 total time=   1.2s\n",
      "[CV 1/5] END ...C=1, gamma=0.001, kernel=linear;, score=0.990 total time=   0.5s\n",
      "[CV 2/5] END ...C=1, gamma=0.001, kernel=linear;, score=0.988 total time=   0.5s\n",
      "[CV 3/5] END ...C=1, gamma=0.001, kernel=linear;, score=0.990 total time=   0.5s\n",
      "[CV 4/5] END ...C=1, gamma=0.001, kernel=linear;, score=0.985 total time=   0.5s\n",
      "[CV 5/5] END ...C=1, gamma=0.001, kernel=linear;, score=0.991 total time=   0.5s\n",
      "[CV 1/5] END .....C=1, gamma=0.0001, kernel=rbf;, score=0.959 total time=   1.1s\n",
      "[CV 2/5] END .....C=1, gamma=0.0001, kernel=rbf;, score=0.960 total time=   1.0s\n",
      "[CV 3/5] END .....C=1, gamma=0.0001, kernel=rbf;, score=0.960 total time=   1.1s\n",
      "[CV 4/5] END .....C=1, gamma=0.0001, kernel=rbf;, score=0.963 total time=   1.1s\n",
      "[CV 5/5] END .....C=1, gamma=0.0001, kernel=rbf;, score=0.960 total time=   1.1s\n",
      "[CV 1/5] END ..C=1, gamma=0.0001, kernel=linear;, score=0.990 total time=   0.5s\n",
      "[CV 2/5] END ..C=1, gamma=0.0001, kernel=linear;, score=0.988 total time=   0.6s\n",
      "[CV 3/5] END ..C=1, gamma=0.0001, kernel=linear;, score=0.990 total time=   0.6s\n",
      "[CV 4/5] END ..C=1, gamma=0.0001, kernel=linear;, score=0.985 total time=   0.5s\n",
      "[CV 5/5] END ..C=1, gamma=0.0001, kernel=linear;, score=0.991 total time=   0.5s\n",
      "[CV 1/5] END .........C=10, gamma=1, kernel=rbf;, score=0.981 total time=  24.0s\n",
      "[CV 2/5] END .........C=10, gamma=1, kernel=rbf;, score=0.973 total time=  24.4s\n",
      "[CV 3/5] END .........C=10, gamma=1, kernel=rbf;, score=0.979 total time=  20.6s\n",
      "[CV 4/5] END .........C=10, gamma=1, kernel=rbf;, score=0.976 total time=  23.6s\n",
      "[CV 5/5] END .........C=10, gamma=1, kernel=rbf;, score=0.976 total time=  24.0s\n",
      "[CV 1/5] END ......C=10, gamma=1, kernel=linear;, score=0.989 total time=   0.5s\n",
      "[CV 2/5] END ......C=10, gamma=1, kernel=linear;, score=0.989 total time=   0.7s\n",
      "[CV 3/5] END ......C=10, gamma=1, kernel=linear;, score=0.990 total time=   0.6s\n",
      "[CV 4/5] END ......C=10, gamma=1, kernel=linear;, score=0.988 total time=   0.6s\n",
      "[CV 5/5] END ......C=10, gamma=1, kernel=linear;, score=0.990 total time=   0.5s\n",
      "[CV 1/5] END .......C=10, gamma=0.1, kernel=rbf;, score=0.990 total time=   1.2s\n",
      "[CV 2/5] END .......C=10, gamma=0.1, kernel=rbf;, score=0.986 total time=   1.2s\n",
      "[CV 3/5] END .......C=10, gamma=0.1, kernel=rbf;, score=0.988 total time=   1.2s\n",
      "[CV 4/5] END .......C=10, gamma=0.1, kernel=rbf;, score=0.984 total time=   1.2s\n",
      "[CV 5/5] END .......C=10, gamma=0.1, kernel=rbf;, score=0.990 total time=   1.4s\n",
      "[CV 1/5] END ....C=10, gamma=0.1, kernel=linear;, score=0.989 total time=   0.6s\n",
      "[CV 2/5] END ....C=10, gamma=0.1, kernel=linear;, score=0.989 total time=   0.6s\n",
      "[CV 3/5] END ....C=10, gamma=0.1, kernel=linear;, score=0.990 total time=   0.6s\n",
      "[CV 4/5] END ....C=10, gamma=0.1, kernel=linear;, score=0.988 total time=   0.5s\n",
      "[CV 5/5] END ....C=10, gamma=0.1, kernel=linear;, score=0.990 total time=   0.5s\n",
      "[CV 1/5] END ......C=10, gamma=0.01, kernel=rbf;, score=0.988 total time=   0.7s\n",
      "[CV 2/5] END ......C=10, gamma=0.01, kernel=rbf;, score=0.988 total time=   0.8s\n",
      "[CV 3/5] END ......C=10, gamma=0.01, kernel=rbf;, score=0.986 total time=   0.8s\n",
      "[CV 4/5] END ......C=10, gamma=0.01, kernel=rbf;, score=0.985 total time=   0.8s\n",
      "[CV 5/5] END ......C=10, gamma=0.01, kernel=rbf;, score=0.990 total time=   0.7s\n",
      "[CV 1/5] END ...C=10, gamma=0.01, kernel=linear;, score=0.989 total time=   0.5s\n",
      "[CV 2/5] END ...C=10, gamma=0.01, kernel=linear;, score=0.989 total time=   0.6s\n",
      "[CV 3/5] END ...C=10, gamma=0.01, kernel=linear;, score=0.990 total time=   0.6s\n",
      "[CV 4/5] END ...C=10, gamma=0.01, kernel=linear;, score=0.988 total time=   0.5s\n",
      "[CV 5/5] END ...C=10, gamma=0.01, kernel=linear;, score=0.990 total time=   0.5s\n",
      "[CV 1/5] END .....C=10, gamma=0.001, kernel=rbf;, score=0.975 total time=   0.9s\n",
      "[CV 2/5] END .....C=10, gamma=0.001, kernel=rbf;, score=0.976 total time=   0.9s\n",
      "[CV 3/5] END .....C=10, gamma=0.001, kernel=rbf;, score=0.978 total time=   0.9s\n",
      "[CV 4/5] END .....C=10, gamma=0.001, kernel=rbf;, score=0.980 total time=   0.9s\n",
      "[CV 5/5] END .....C=10, gamma=0.001, kernel=rbf;, score=0.980 total time=   0.8s\n",
      "[CV 1/5] END ..C=10, gamma=0.001, kernel=linear;, score=0.989 total time=   0.5s\n",
      "[CV 2/5] END ..C=10, gamma=0.001, kernel=linear;, score=0.989 total time=   0.6s\n",
      "[CV 3/5] END ..C=10, gamma=0.001, kernel=linear;, score=0.990 total time=   0.6s\n",
      "[CV 4/5] END ..C=10, gamma=0.001, kernel=linear;, score=0.988 total time=   0.6s\n",
      "[CV 5/5] END ..C=10, gamma=0.001, kernel=linear;, score=0.990 total time=   0.5s\n",
      "[CV 1/5] END ....C=10, gamma=0.0001, kernel=rbf;, score=0.970 total time=   1.0s\n",
      "[CV 2/5] END ....C=10, gamma=0.0001, kernel=rbf;, score=0.971 total time=   1.0s\n",
      "[CV 3/5] END ....C=10, gamma=0.0001, kernel=rbf;, score=0.970 total time=   1.1s\n",
      "[CV 4/5] END ....C=10, gamma=0.0001, kernel=rbf;, score=0.974 total time=   1.1s\n",
      "[CV 5/5] END ....C=10, gamma=0.0001, kernel=rbf;, score=0.973 total time=   1.0s\n",
      "[CV 1/5] END .C=10, gamma=0.0001, kernel=linear;, score=0.989 total time=   0.6s\n",
      "[CV 2/5] END .C=10, gamma=0.0001, kernel=linear;, score=0.989 total time=   0.6s\n",
      "[CV 3/5] END .C=10, gamma=0.0001, kernel=linear;, score=0.990 total time=   0.6s\n",
      "[CV 4/5] END .C=10, gamma=0.0001, kernel=linear;, score=0.988 total time=   0.5s\n",
      "[CV 5/5] END .C=10, gamma=0.0001, kernel=linear;, score=0.990 total time=   0.5s\n",
      "[CV 1/5] END ........C=100, gamma=1, kernel=rbf;, score=0.979 total time=  23.3s\n",
      "[CV 2/5] END ........C=100, gamma=1, kernel=rbf;, score=0.973 total time=  23.2s\n",
      "[CV 3/5] END ........C=100, gamma=1, kernel=rbf;, score=0.979 total time=  23.0s\n",
      "[CV 4/5] END ........C=100, gamma=1, kernel=rbf;, score=0.975 total time=  24.1s\n",
      "[CV 5/5] END ........C=100, gamma=1, kernel=rbf;, score=0.970 total time=  23.0s\n",
      "[CV 1/5] END .....C=100, gamma=1, kernel=linear;, score=0.990 total time=   0.7s\n",
      "[CV 2/5] END .....C=100, gamma=1, kernel=linear;, score=0.989 total time=   0.8s\n",
      "[CV 3/5] END .....C=100, gamma=1, kernel=linear;, score=0.990 total time=   0.8s\n",
      "[CV 4/5] END .....C=100, gamma=1, kernel=linear;, score=0.988 total time=   0.7s\n",
      "[CV 5/5] END .....C=100, gamma=1, kernel=linear;, score=0.990 total time=   0.7s\n",
      "[CV 1/5] END ......C=100, gamma=0.1, kernel=rbf;, score=0.990 total time=   1.2s\n",
      "[CV 2/5] END ......C=100, gamma=0.1, kernel=rbf;, score=0.988 total time=   1.3s\n",
      "[CV 3/5] END ......C=100, gamma=0.1, kernel=rbf;, score=0.988 total time=   1.1s\n",
      "[CV 4/5] END ......C=100, gamma=0.1, kernel=rbf;, score=0.983 total time=   1.1s\n",
      "[CV 5/5] END ......C=100, gamma=0.1, kernel=rbf;, score=0.984 total time=   1.2s\n",
      "[CV 1/5] END ...C=100, gamma=0.1, kernel=linear;, score=0.990 total time=   0.7s\n",
      "[CV 2/5] END ...C=100, gamma=0.1, kernel=linear;, score=0.989 total time=   0.8s\n",
      "[CV 3/5] END ...C=100, gamma=0.1, kernel=linear;, score=0.990 total time=   0.8s\n",
      "[CV 4/5] END ...C=100, gamma=0.1, kernel=linear;, score=0.988 total time=   0.8s\n",
      "[CV 5/5] END ...C=100, gamma=0.1, kernel=linear;, score=0.990 total time=   0.7s\n",
      "[CV 1/5] END .....C=100, gamma=0.01, kernel=rbf;, score=0.991 total time=   0.7s\n",
      "[CV 2/5] END .....C=100, gamma=0.01, kernel=rbf;, score=0.990 total time=   0.7s\n",
      "[CV 3/5] END .....C=100, gamma=0.01, kernel=rbf;, score=0.988 total time=   0.6s\n",
      "[CV 4/5] END .....C=100, gamma=0.01, kernel=rbf;, score=0.985 total time=   0.7s\n",
      "[CV 5/5] END .....C=100, gamma=0.01, kernel=rbf;, score=0.990 total time=   0.6s\n",
      "[CV 1/5] END ..C=100, gamma=0.01, kernel=linear;, score=0.990 total time=   0.7s\n",
      "[CV 2/5] END ..C=100, gamma=0.01, kernel=linear;, score=0.989 total time=   0.8s\n",
      "[CV 3/5] END ..C=100, gamma=0.01, kernel=linear;, score=0.990 total time=   0.7s\n",
      "[CV 4/5] END ..C=100, gamma=0.01, kernel=linear;, score=0.988 total time=   0.7s\n",
      "[CV 5/5] END ..C=100, gamma=0.01, kernel=linear;, score=0.990 total time=   0.8s\n",
      "[CV 1/5] END ....C=100, gamma=0.001, kernel=rbf;, score=0.989 total time=   0.7s\n",
      "[CV 2/5] END ....C=100, gamma=0.001, kernel=rbf;, score=0.988 total time=   0.7s\n",
      "[CV 3/5] END ....C=100, gamma=0.001, kernel=rbf;, score=0.988 total time=   0.8s\n",
      "[CV 4/5] END ....C=100, gamma=0.001, kernel=rbf;, score=0.985 total time=   0.7s\n",
      "[CV 5/5] END ....C=100, gamma=0.001, kernel=rbf;, score=0.991 total time=   0.8s\n",
      "[CV 1/5] END .C=100, gamma=0.001, kernel=linear;, score=0.990 total time=   0.7s\n",
      "[CV 2/5] END .C=100, gamma=0.001, kernel=linear;, score=0.989 total time=   0.8s\n",
      "[CV 3/5] END .C=100, gamma=0.001, kernel=linear;, score=0.990 total time=   0.7s\n",
      "[CV 4/5] END .C=100, gamma=0.001, kernel=linear;, score=0.988 total time=   0.7s\n",
      "[CV 5/5] END .C=100, gamma=0.001, kernel=linear;, score=0.990 total time=   0.7s\n",
      "[CV 1/5] END ...C=100, gamma=0.0001, kernel=rbf;, score=0.975 total time=   1.0s\n",
      "[CV 2/5] END ...C=100, gamma=0.0001, kernel=rbf;, score=0.976 total time=   0.8s\n",
      "[CV 3/5] END ...C=100, gamma=0.0001, kernel=rbf;, score=0.978 total time=   0.9s\n",
      "[CV 4/5] END ...C=100, gamma=0.0001, kernel=rbf;, score=0.980 total time=   0.9s\n",
      "[CV 5/5] END ...C=100, gamma=0.0001, kernel=rbf;, score=0.980 total time=   0.8s\n",
      "[CV 1/5] END C=100, gamma=0.0001, kernel=linear;, score=0.990 total time=   0.7s\n",
      "[CV 2/5] END C=100, gamma=0.0001, kernel=linear;, score=0.989 total time=   0.9s\n",
      "[CV 3/5] END C=100, gamma=0.0001, kernel=linear;, score=0.990 total time=   0.8s\n",
      "[CV 4/5] END C=100, gamma=0.0001, kernel=linear;, score=0.988 total time=   0.7s\n",
      "[CV 5/5] END C=100, gamma=0.0001, kernel=linear;, score=0.990 total time=   0.7s\n",
      "[CV 1/5] END .......C=1000, gamma=1, kernel=rbf;, score=0.980 total time=  23.0s\n",
      "[CV 2/5] END .......C=1000, gamma=1, kernel=rbf;, score=0.974 total time=  21.6s\n",
      "[CV 3/5] END .......C=1000, gamma=1, kernel=rbf;, score=0.978 total time=  21.4s\n",
      "[CV 4/5] END .......C=1000, gamma=1, kernel=rbf;, score=0.975 total time=  15.8s\n",
      "[CV 5/5] END .......C=1000, gamma=1, kernel=rbf;, score=0.974 total time=  12.7s\n",
      "[CV 1/5] END ....C=1000, gamma=1, kernel=linear;, score=0.990 total time=   1.5s\n",
      "[CV 2/5] END ....C=1000, gamma=1, kernel=linear;, score=0.989 total time=   1.4s\n",
      "[CV 3/5] END ....C=1000, gamma=1, kernel=linear;, score=0.990 total time=   1.3s\n",
      "[CV 4/5] END ....C=1000, gamma=1, kernel=linear;, score=0.988 total time=   1.4s\n",
      "[CV 5/5] END ....C=1000, gamma=1, kernel=linear;, score=0.990 total time=   1.4s\n",
      "[CV 1/5] END .....C=1000, gamma=0.1, kernel=rbf;, score=0.988 total time=   0.8s\n",
      "[CV 2/5] END .....C=1000, gamma=0.1, kernel=rbf;, score=0.991 total time=   0.9s\n",
      "[CV 3/5] END .....C=1000, gamma=0.1, kernel=rbf;, score=0.989 total time=   0.8s\n",
      "[CV 4/5] END .....C=1000, gamma=0.1, kernel=rbf;, score=0.981 total time=   0.7s\n",
      "[CV 5/5] END .....C=1000, gamma=0.1, kernel=rbf;, score=0.978 total time=   0.8s\n",
      "[CV 1/5] END ..C=1000, gamma=0.1, kernel=linear;, score=0.990 total time=   1.3s\n",
      "[CV 2/5] END ..C=1000, gamma=0.1, kernel=linear;, score=0.989 total time=   1.4s\n",
      "[CV 3/5] END ..C=1000, gamma=0.1, kernel=linear;, score=0.990 total time=   1.1s\n",
      "[CV 4/5] END ..C=1000, gamma=0.1, kernel=linear;, score=0.988 total time=   1.5s\n",
      "[CV 5/5] END ..C=1000, gamma=0.1, kernel=linear;, score=0.990 total time=   1.3s\n",
      "[CV 1/5] END ....C=1000, gamma=0.01, kernel=rbf;, score=0.988 total time=   0.4s\n",
      "[CV 2/5] END ....C=1000, gamma=0.01, kernel=rbf;, score=0.986 total time=   0.5s\n",
      "[CV 3/5] END ....C=1000, gamma=0.01, kernel=rbf;, score=0.986 total time=   0.4s\n",
      "[CV 4/5] END ....C=1000, gamma=0.01, kernel=rbf;, score=0.984 total time=   0.4s\n",
      "[CV 5/5] END ....C=1000, gamma=0.01, kernel=rbf;, score=0.990 total time=   0.4s\n",
      "[CV 1/5] END .C=1000, gamma=0.01, kernel=linear;, score=0.990 total time=   1.2s\n",
      "[CV 2/5] END .C=1000, gamma=0.01, kernel=linear;, score=0.989 total time=   1.5s\n",
      "[CV 3/5] END .C=1000, gamma=0.01, kernel=linear;, score=0.990 total time=   1.2s\n",
      "[CV 4/5] END .C=1000, gamma=0.01, kernel=linear;, score=0.988 total time=   1.3s\n",
      "[CV 5/5] END .C=1000, gamma=0.01, kernel=linear;, score=0.990 total time=   1.4s\n",
      "[CV 1/5] END ...C=1000, gamma=0.001, kernel=rbf;, score=0.989 total time=   0.4s\n",
      "[CV 2/5] END ...C=1000, gamma=0.001, kernel=rbf;, score=0.989 total time=   0.4s\n",
      "[CV 3/5] END ...C=1000, gamma=0.001, kernel=rbf;, score=0.991 total time=   0.5s\n",
      "[CV 4/5] END ...C=1000, gamma=0.001, kernel=rbf;, score=0.986 total time=   0.5s\n",
      "[CV 5/5] END ...C=1000, gamma=0.001, kernel=rbf;, score=0.993 total time=   0.6s\n",
      "[CV 1/5] END C=1000, gamma=0.001, kernel=linear;, score=0.990 total time=   1.7s\n",
      "[CV 2/5] END C=1000, gamma=0.001, kernel=linear;, score=0.989 total time=   1.9s\n",
      "[CV 3/5] END C=1000, gamma=0.001, kernel=linear;, score=0.990 total time=   2.2s\n",
      "[CV 4/5] END C=1000, gamma=0.001, kernel=linear;, score=0.988 total time=   1.3s\n",
      "[CV 5/5] END C=1000, gamma=0.001, kernel=linear;, score=0.990 total time=   2.5s\n",
      "[CV 1/5] END ..C=1000, gamma=0.0001, kernel=rbf;, score=0.989 total time=   0.6s\n",
      "[CV 2/5] END ..C=1000, gamma=0.0001, kernel=rbf;, score=0.988 total time=   0.5s\n",
      "[CV 3/5] END ..C=1000, gamma=0.0001, kernel=rbf;, score=0.988 total time=   0.5s\n",
      "[CV 4/5] END ..C=1000, gamma=0.0001, kernel=rbf;, score=0.985 total time=   0.6s\n",
      "[CV 5/5] END ..C=1000, gamma=0.0001, kernel=rbf;, score=0.991 total time=   0.6s\n",
      "[CV 1/5] END C=1000, gamma=0.0001, kernel=linear;, score=0.990 total time=   1.1s\n",
      "[CV 2/5] END C=1000, gamma=0.0001, kernel=linear;, score=0.989 total time=   1.7s\n",
      "[CV 3/5] END C=1000, gamma=0.0001, kernel=linear;, score=0.990 total time=   1.2s\n",
      "[CV 4/5] END C=1000, gamma=0.0001, kernel=linear;, score=0.988 total time=   1.2s\n",
      "[CV 5/5] END C=1000, gamma=0.0001, kernel=linear;, score=0.990 total time=   1.7s\n"
     ]
    },
    {
     "data": {
      "text/plain": [
       "GridSearchCV(estimator=SVC(probability=True),\n",
       "             param_grid={'C': [0.1, 1, 10, 100, 1000],\n",
       "                         'gamma': [1, 0.1, 0.01, 0.001, 0.0001],\n",
       "                         'kernel': ['rbf', 'linear']},\n",
       "             verbose=3)"
      ]
     },
     "execution_count": 46,
     "metadata": {},
     "output_type": "execute_result"
    }
   ],
   "source": [
    "from sklearn.model_selection import GridSearchCV\n",
    " \n",
    "# defining parameter range\n",
    "# dictionary with parameters as keys and lists of parameter settings to try as values\n",
    "param_grid = {'C': [0.1, 1, 10, 100, 1000],\n",
    "              'gamma': [1, 0.1, 0.01, 0.001, 0.0001],\n",
    "              'kernel': ['rbf', 'linear']}\n",
    " \n",
    "grid = GridSearchCV(SVC(probability=True), param_grid, refit = True, verbose = 3)\n",
    "# refit: (default = True); refit estimator using the best found parameters on the whole dataset\n",
    "# probability: (default = False); if True, predict_proba is used to predict probabilities; necessary for soft voting in voting classifier\n",
    "# ^ uses cross-validation to estimate class probabilities, slowing down training\n",
    " \n",
    "# fitting the model for grid search\n",
    "grid.fit(X_train, y_train)"
   ]
  },
  {
   "cell_type": "code",
   "execution_count": 47,
   "metadata": {},
   "outputs": [
    {
     "name": "stdout",
     "output_type": "stream",
     "text": [
      "{'C': 1000, 'gamma': 0.001, 'kernel': 'rbf'}\n",
      "SVC(C=1000, gamma=0.001, probability=True)\n"
     ]
    }
   ],
   "source": [
    "# print best parameter after tuning\n",
    "print(grid.best_params_)\n",
    " \n",
    "# print how our model looks after hyper-parameter tuning\n",
    "print(grid.best_estimator_)"
   ]
  },
  {
   "cell_type": "code",
   "execution_count": 48,
   "metadata": {},
   "outputs": [
    {
     "name": "stdout",
     "output_type": "stream",
     "text": [
      "              precision    recall  f1-score   support\n",
      "\n",
      "       Alive       1.00      1.00      1.00      3835\n",
      "        Dead       0.78      0.79      0.78        80\n",
      "       Stump       1.00      0.99      0.99        85\n",
      "\n",
      "    accuracy                           0.99      4000\n",
      "   macro avg       0.92      0.92      0.92      4000\n",
      "weighted avg       0.99      0.99      0.99      4000\n",
      "\n"
     ]
    }
   ],
   "source": [
    "# precision / recall / f1 score after hyperparameter tuning\n",
    "grid_predictions = grid.predict(X_train)\n",
    " \n",
    "# print classification report\n",
    "print(classification_report(y_train, grid_predictions))"
   ]
  },
  {
   "cell_type": "markdown",
   "metadata": {},
   "source": [
    "#### grid search (random forest)"
   ]
  },
  {
   "cell_type": "code",
   "execution_count": 49,
   "metadata": {},
   "outputs": [
    {
     "name": "stdout",
     "output_type": "stream",
     "text": [
      "Fitting 5 folds for each of 12 candidates, totalling 60 fits\n",
      "[CV] END ....max_depth=1, max_leaf_nodes=5, n_estimators=100; total time=   1.7s\n",
      "[CV] END ....max_depth=1, max_leaf_nodes=5, n_estimators=100; total time=   0.3s\n",
      "[CV] END ....max_depth=1, max_leaf_nodes=5, n_estimators=100; total time=   0.3s\n",
      "[CV] END ....max_depth=1, max_leaf_nodes=5, n_estimators=100; total time=   0.3s\n",
      "[CV] END ....max_depth=1, max_leaf_nodes=5, n_estimators=100; total time=   0.3s\n",
      "[CV] END ...max_depth=1, max_leaf_nodes=5, n_estimators=1000; total time=   1.1s\n",
      "[CV] END ...max_depth=1, max_leaf_nodes=5, n_estimators=1000; total time=   1.1s\n",
      "[CV] END ...max_depth=1, max_leaf_nodes=5, n_estimators=1000; total time=   1.0s\n",
      "[CV] END ...max_depth=1, max_leaf_nodes=5, n_estimators=1000; total time=   1.0s\n",
      "[CV] END ...max_depth=1, max_leaf_nodes=5, n_estimators=1000; total time=   1.0s\n",
      "[CV] END ...max_depth=1, max_leaf_nodes=20, n_estimators=100; total time=   0.3s\n",
      "[CV] END ...max_depth=1, max_leaf_nodes=20, n_estimators=100; total time=   0.3s\n",
      "[CV] END ...max_depth=1, max_leaf_nodes=20, n_estimators=100; total time=   0.3s\n",
      "[CV] END ...max_depth=1, max_leaf_nodes=20, n_estimators=100; total time=   0.3s\n",
      "[CV] END ...max_depth=1, max_leaf_nodes=20, n_estimators=100; total time=   0.3s\n",
      "[CV] END ..max_depth=1, max_leaf_nodes=20, n_estimators=1000; total time=   1.4s\n",
      "[CV] END ..max_depth=1, max_leaf_nodes=20, n_estimators=1000; total time=   1.8s\n",
      "[CV] END ..max_depth=1, max_leaf_nodes=20, n_estimators=1000; total time=   1.5s\n",
      "[CV] END ..max_depth=1, max_leaf_nodes=20, n_estimators=1000; total time=   1.5s\n",
      "[CV] END ..max_depth=1, max_leaf_nodes=20, n_estimators=1000; total time=   1.1s\n",
      "[CV] END .max_depth=1, max_leaf_nodes=None, n_estimators=100; total time=   0.3s\n",
      "[CV] END .max_depth=1, max_leaf_nodes=None, n_estimators=100; total time=   0.5s\n",
      "[CV] END .max_depth=1, max_leaf_nodes=None, n_estimators=100; total time=   0.5s\n",
      "[CV] END .max_depth=1, max_leaf_nodes=None, n_estimators=100; total time=   0.3s\n",
      "[CV] END .max_depth=1, max_leaf_nodes=None, n_estimators=100; total time=   0.3s\n",
      "[CV] END max_depth=1, max_leaf_nodes=None, n_estimators=1000; total time=   1.3s\n",
      "[CV] END max_depth=1, max_leaf_nodes=None, n_estimators=1000; total time=   1.3s\n",
      "[CV] END max_depth=1, max_leaf_nodes=None, n_estimators=1000; total time=   1.1s\n",
      "[CV] END max_depth=1, max_leaf_nodes=None, n_estimators=1000; total time=   1.1s\n",
      "[CV] END max_depth=1, max_leaf_nodes=None, n_estimators=1000; total time=   1.1s\n",
      "[CV] END .max_depth=None, max_leaf_nodes=5, n_estimators=100; total time=   0.3s\n",
      "[CV] END .max_depth=None, max_leaf_nodes=5, n_estimators=100; total time=   0.4s\n",
      "[CV] END .max_depth=None, max_leaf_nodes=5, n_estimators=100; total time=   0.3s\n",
      "[CV] END .max_depth=None, max_leaf_nodes=5, n_estimators=100; total time=   0.3s\n",
      "[CV] END .max_depth=None, max_leaf_nodes=5, n_estimators=100; total time=   0.3s\n",
      "[CV] END max_depth=None, max_leaf_nodes=5, n_estimators=1000; total time=   1.3s\n",
      "[CV] END max_depth=None, max_leaf_nodes=5, n_estimators=1000; total time=   1.2s\n",
      "[CV] END max_depth=None, max_leaf_nodes=5, n_estimators=1000; total time=   1.1s\n",
      "[CV] END max_depth=None, max_leaf_nodes=5, n_estimators=1000; total time=   1.0s\n",
      "[CV] END max_depth=None, max_leaf_nodes=5, n_estimators=1000; total time=   1.2s\n",
      "[CV] END max_depth=None, max_leaf_nodes=20, n_estimators=100; total time=   0.2s\n",
      "[CV] END max_depth=None, max_leaf_nodes=20, n_estimators=100; total time=   0.3s\n",
      "[CV] END max_depth=None, max_leaf_nodes=20, n_estimators=100; total time=   0.3s\n",
      "[CV] END max_depth=None, max_leaf_nodes=20, n_estimators=100; total time=   0.3s\n",
      "[CV] END max_depth=None, max_leaf_nodes=20, n_estimators=100; total time=   0.3s\n",
      "[CV] END max_depth=None, max_leaf_nodes=20, n_estimators=1000; total time=   1.8s\n",
      "[CV] END max_depth=None, max_leaf_nodes=20, n_estimators=1000; total time=   1.7s\n",
      "[CV] END max_depth=None, max_leaf_nodes=20, n_estimators=1000; total time=   1.2s\n",
      "[CV] END max_depth=None, max_leaf_nodes=20, n_estimators=1000; total time=   1.2s\n",
      "[CV] END max_depth=None, max_leaf_nodes=20, n_estimators=1000; total time=   1.1s\n",
      "[CV] END max_depth=None, max_leaf_nodes=None, n_estimators=100; total time=   0.3s\n",
      "[CV] END max_depth=None, max_leaf_nodes=None, n_estimators=100; total time=   0.3s\n",
      "[CV] END max_depth=None, max_leaf_nodes=None, n_estimators=100; total time=   0.3s\n",
      "[CV] END max_depth=None, max_leaf_nodes=None, n_estimators=100; total time=   0.3s\n",
      "[CV] END max_depth=None, max_leaf_nodes=None, n_estimators=100; total time=   0.3s\n",
      "[CV] END max_depth=None, max_leaf_nodes=None, n_estimators=1000; total time=   1.2s\n",
      "[CV] END max_depth=None, max_leaf_nodes=None, n_estimators=1000; total time=   1.1s\n",
      "[CV] END max_depth=None, max_leaf_nodes=None, n_estimators=1000; total time=   1.1s\n",
      "[CV] END max_depth=None, max_leaf_nodes=None, n_estimators=1000; total time=   1.2s\n",
      "[CV] END max_depth=None, max_leaf_nodes=None, n_estimators=1000; total time=   1.1s\n"
     ]
    },
    {
     "data": {
      "text/plain": [
       "GridSearchCV(estimator=RandomForestClassifier(n_jobs=-1, random_state=42),\n",
       "             param_grid={'max_depth': [1, None],\n",
       "                         'max_leaf_nodes': [5, 20, None],\n",
       "                         'n_estimators': [100, 1000]},\n",
       "             verbose=2)"
      ]
     },
     "execution_count": 49,
     "metadata": {},
     "output_type": "execute_result"
    }
   ],
   "source": [
    "from sklearn.model_selection import GridSearchCV\n",
    " \n",
    "# defining parameter range\n",
    "# dictionary with parameters as keys and lists of parameter settings to try as values\n",
    "# Note: there are many more hyperparameters to tune and many more options for each hyperparameter, but we are only using these as an example\n",
    "param_grid = {'n_estimators': [100, 1000],\n",
    "              'max_leaf_nodes': [5, 20, None], \n",
    "              'max_depth': [1, None]}\n",
    " \n",
    "grid_rf = GridSearchCV(RandomForestClassifier(n_jobs=-1, random_state=42), param_grid, refit = True, verbose = 2)\n",
    "# refit: (default = True); refit estimator using the best found parameters on the whole dataset\n",
    "# probability: (default = False); if True, predict_proba is used to predict probabilities; necessary for soft voting in voting classifier\n",
    "# ^ uses cross-validation to estimate class probabilities, slowing down training\n",
    " \n",
    "# fitting the model for grid search\n",
    "grid_rf.fit(X_train, y_train)"
   ]
  },
  {
   "cell_type": "code",
   "execution_count": 50,
   "metadata": {},
   "outputs": [
    {
     "name": "stdout",
     "output_type": "stream",
     "text": [
      "{'max_depth': None, 'max_leaf_nodes': None, 'n_estimators': 1000}\n",
      "RandomForestClassifier(n_estimators=1000, n_jobs=-1, random_state=42)\n"
     ]
    }
   ],
   "source": [
    "# print best parameter after tuning\n",
    "print(grid_rf.best_params_)\n",
    " \n",
    "# print how our model looks after hyper-parameter tuning\n",
    "print(grid_rf.best_estimator_)"
   ]
  },
  {
   "cell_type": "code",
   "execution_count": 51,
   "metadata": {},
   "outputs": [
    {
     "name": "stdout",
     "output_type": "stream",
     "text": [
      "              precision    recall  f1-score   support\n",
      "\n",
      "       Alive       1.00      1.00      1.00      3835\n",
      "        Dead       1.00      1.00      1.00        80\n",
      "       Stump       1.00      1.00      1.00        85\n",
      "\n",
      "    accuracy                           1.00      4000\n",
      "   macro avg       1.00      1.00      1.00      4000\n",
      "weighted avg       1.00      1.00      1.00      4000\n",
      "\n"
     ]
    }
   ],
   "source": [
    "# precision / recall / f1 score after hyperparameter tuning\n",
    "grid_rf_predictions = grid_rf.predict(X_train)\n",
    " \n",
    "# print classification report\n",
    "print(classification_report(y_train, grid_rf_predictions))"
   ]
  },
  {
   "cell_type": "markdown",
   "metadata": {},
   "source": [
    "#### randomized search (logistic)"
   ]
  },
  {
   "cell_type": "code",
   "execution_count": 52,
   "metadata": {},
   "outputs": [
    {
     "name": "stderr",
     "output_type": "stream",
     "text": [
      "/Users/nmontalbano/Library/Python/3.8/lib/python/site-packages/sklearn/linear_model/_logistic.py:814: ConvergenceWarning: lbfgs failed to converge (status=1):\n",
      "STOP: TOTAL NO. of ITERATIONS REACHED LIMIT.\n",
      "\n",
      "Increase the number of iterations (max_iter) or scale the data as shown in:\n",
      "    https://scikit-learn.org/stable/modules/preprocessing.html\n",
      "Please also refer to the documentation for alternative solver options:\n",
      "    https://scikit-learn.org/stable/modules/linear_model.html#logistic-regression\n",
      "  n_iter_i = _check_optimize_result(\n",
      "/Users/nmontalbano/Library/Python/3.8/lib/python/site-packages/sklearn/linear_model/_logistic.py:814: ConvergenceWarning: lbfgs failed to converge (status=1):\n",
      "STOP: TOTAL NO. of ITERATIONS REACHED LIMIT.\n",
      "\n",
      "Increase the number of iterations (max_iter) or scale the data as shown in:\n",
      "    https://scikit-learn.org/stable/modules/preprocessing.html\n",
      "Please also refer to the documentation for alternative solver options:\n",
      "    https://scikit-learn.org/stable/modules/linear_model.html#logistic-regression\n",
      "  n_iter_i = _check_optimize_result(\n",
      "/Users/nmontalbano/Library/Python/3.8/lib/python/site-packages/sklearn/linear_model/_logistic.py:814: ConvergenceWarning: lbfgs failed to converge (status=1):\n",
      "STOP: TOTAL NO. of ITERATIONS REACHED LIMIT.\n",
      "\n",
      "Increase the number of iterations (max_iter) or scale the data as shown in:\n",
      "    https://scikit-learn.org/stable/modules/preprocessing.html\n",
      "Please also refer to the documentation for alternative solver options:\n",
      "    https://scikit-learn.org/stable/modules/linear_model.html#logistic-regression\n",
      "  n_iter_i = _check_optimize_result(\n",
      "/Users/nmontalbano/Library/Python/3.8/lib/python/site-packages/sklearn/linear_model/_logistic.py:814: ConvergenceWarning: lbfgs failed to converge (status=1):\n",
      "STOP: TOTAL NO. of ITERATIONS REACHED LIMIT.\n",
      "\n",
      "Increase the number of iterations (max_iter) or scale the data as shown in:\n",
      "    https://scikit-learn.org/stable/modules/preprocessing.html\n",
      "Please also refer to the documentation for alternative solver options:\n",
      "    https://scikit-learn.org/stable/modules/linear_model.html#logistic-regression\n",
      "  n_iter_i = _check_optimize_result(\n",
      "/Users/nmontalbano/Library/Python/3.8/lib/python/site-packages/sklearn/linear_model/_logistic.py:814: ConvergenceWarning: lbfgs failed to converge (status=1):\n",
      "STOP: TOTAL NO. of ITERATIONS REACHED LIMIT.\n",
      "\n",
      "Increase the number of iterations (max_iter) or scale the data as shown in:\n",
      "    https://scikit-learn.org/stable/modules/preprocessing.html\n",
      "Please also refer to the documentation for alternative solver options:\n",
      "    https://scikit-learn.org/stable/modules/linear_model.html#logistic-regression\n",
      "  n_iter_i = _check_optimize_result(\n",
      "/Users/nmontalbano/Library/Python/3.8/lib/python/site-packages/sklearn/linear_model/_logistic.py:814: ConvergenceWarning: lbfgs failed to converge (status=1):\n",
      "STOP: TOTAL NO. of ITERATIONS REACHED LIMIT.\n",
      "\n",
      "Increase the number of iterations (max_iter) or scale the data as shown in:\n",
      "    https://scikit-learn.org/stable/modules/preprocessing.html\n",
      "Please also refer to the documentation for alternative solver options:\n",
      "    https://scikit-learn.org/stable/modules/linear_model.html#logistic-regression\n",
      "  n_iter_i = _check_optimize_result(\n",
      "/Users/nmontalbano/Library/Python/3.8/lib/python/site-packages/sklearn/linear_model/_logistic.py:814: ConvergenceWarning: lbfgs failed to converge (status=1):\n",
      "STOP: TOTAL NO. of ITERATIONS REACHED LIMIT.\n",
      "\n",
      "Increase the number of iterations (max_iter) or scale the data as shown in:\n",
      "    https://scikit-learn.org/stable/modules/preprocessing.html\n",
      "Please also refer to the documentation for alternative solver options:\n",
      "    https://scikit-learn.org/stable/modules/linear_model.html#logistic-regression\n",
      "  n_iter_i = _check_optimize_result(\n",
      "/Users/nmontalbano/Library/Python/3.8/lib/python/site-packages/sklearn/linear_model/_logistic.py:814: ConvergenceWarning: lbfgs failed to converge (status=1):\n",
      "STOP: TOTAL NO. of ITERATIONS REACHED LIMIT.\n",
      "\n",
      "Increase the number of iterations (max_iter) or scale the data as shown in:\n",
      "    https://scikit-learn.org/stable/modules/preprocessing.html\n",
      "Please also refer to the documentation for alternative solver options:\n",
      "    https://scikit-learn.org/stable/modules/linear_model.html#logistic-regression\n",
      "  n_iter_i = _check_optimize_result(\n",
      "/Users/nmontalbano/Library/Python/3.8/lib/python/site-packages/sklearn/linear_model/_logistic.py:814: ConvergenceWarning: lbfgs failed to converge (status=1):\n",
      "STOP: TOTAL NO. of ITERATIONS REACHED LIMIT.\n",
      "\n",
      "Increase the number of iterations (max_iter) or scale the data as shown in:\n",
      "    https://scikit-learn.org/stable/modules/preprocessing.html\n",
      "Please also refer to the documentation for alternative solver options:\n",
      "    https://scikit-learn.org/stable/modules/linear_model.html#logistic-regression\n",
      "  n_iter_i = _check_optimize_result(\n",
      "/Users/nmontalbano/Library/Python/3.8/lib/python/site-packages/sklearn/linear_model/_logistic.py:814: ConvergenceWarning: lbfgs failed to converge (status=1):\n",
      "STOP: TOTAL NO. of ITERATIONS REACHED LIMIT.\n",
      "\n",
      "Increase the number of iterations (max_iter) or scale the data as shown in:\n",
      "    https://scikit-learn.org/stable/modules/preprocessing.html\n",
      "Please also refer to the documentation for alternative solver options:\n",
      "    https://scikit-learn.org/stable/modules/linear_model.html#logistic-regression\n",
      "  n_iter_i = _check_optimize_result(\n",
      "/Users/nmontalbano/Library/Python/3.8/lib/python/site-packages/sklearn/linear_model/_logistic.py:814: ConvergenceWarning: lbfgs failed to converge (status=1):\n",
      "STOP: TOTAL NO. of ITERATIONS REACHED LIMIT.\n",
      "\n",
      "Increase the number of iterations (max_iter) or scale the data as shown in:\n",
      "    https://scikit-learn.org/stable/modules/preprocessing.html\n",
      "Please also refer to the documentation for alternative solver options:\n",
      "    https://scikit-learn.org/stable/modules/linear_model.html#logistic-regression\n",
      "  n_iter_i = _check_optimize_result(\n",
      "/Users/nmontalbano/Library/Python/3.8/lib/python/site-packages/sklearn/linear_model/_logistic.py:814: ConvergenceWarning: lbfgs failed to converge (status=1):\n",
      "STOP: TOTAL NO. of ITERATIONS REACHED LIMIT.\n",
      "\n",
      "Increase the number of iterations (max_iter) or scale the data as shown in:\n",
      "    https://scikit-learn.org/stable/modules/preprocessing.html\n",
      "Please also refer to the documentation for alternative solver options:\n",
      "    https://scikit-learn.org/stable/modules/linear_model.html#logistic-regression\n",
      "  n_iter_i = _check_optimize_result(\n",
      "/Users/nmontalbano/Library/Python/3.8/lib/python/site-packages/sklearn/linear_model/_logistic.py:814: ConvergenceWarning: lbfgs failed to converge (status=1):\n",
      "STOP: TOTAL NO. of ITERATIONS REACHED LIMIT.\n",
      "\n",
      "Increase the number of iterations (max_iter) or scale the data as shown in:\n",
      "    https://scikit-learn.org/stable/modules/preprocessing.html\n",
      "Please also refer to the documentation for alternative solver options:\n",
      "    https://scikit-learn.org/stable/modules/linear_model.html#logistic-regression\n",
      "  n_iter_i = _check_optimize_result(\n",
      "/Users/nmontalbano/Library/Python/3.8/lib/python/site-packages/sklearn/linear_model/_logistic.py:814: ConvergenceWarning: lbfgs failed to converge (status=1):\n",
      "STOP: TOTAL NO. of ITERATIONS REACHED LIMIT.\n",
      "\n",
      "Increase the number of iterations (max_iter) or scale the data as shown in:\n",
      "    https://scikit-learn.org/stable/modules/preprocessing.html\n",
      "Please also refer to the documentation for alternative solver options:\n",
      "    https://scikit-learn.org/stable/modules/linear_model.html#logistic-regression\n",
      "  n_iter_i = _check_optimize_result(\n",
      "/Users/nmontalbano/Library/Python/3.8/lib/python/site-packages/sklearn/linear_model/_logistic.py:814: ConvergenceWarning: lbfgs failed to converge (status=1):\n",
      "STOP: TOTAL NO. of ITERATIONS REACHED LIMIT.\n",
      "\n",
      "Increase the number of iterations (max_iter) or scale the data as shown in:\n",
      "    https://scikit-learn.org/stable/modules/preprocessing.html\n",
      "Please also refer to the documentation for alternative solver options:\n",
      "    https://scikit-learn.org/stable/modules/linear_model.html#logistic-regression\n",
      "  n_iter_i = _check_optimize_result(\n",
      "/Users/nmontalbano/Library/Python/3.8/lib/python/site-packages/sklearn/model_selection/_validation.py:372: FitFailedWarning: \n",
      "35 fits failed out of a total of 50.\n",
      "The score on these train-test partitions for these parameters will be set to nan.\n",
      "If these failures are not expected, you can try to debug them by setting error_score='raise'.\n",
      "\n",
      "Below are more details about the failures:\n",
      "--------------------------------------------------------------------------------\n",
      "35 fits failed with the following error:\n",
      "Traceback (most recent call last):\n",
      "  File \"/Users/nmontalbano/Library/Python/3.8/lib/python/site-packages/sklearn/model_selection/_validation.py\", line 680, in _fit_and_score\n",
      "    estimator.fit(X_train, y_train, **fit_params)\n",
      "  File \"/Users/nmontalbano/Library/Python/3.8/lib/python/site-packages/sklearn/linear_model/_logistic.py\", line 1461, in fit\n",
      "    solver = _check_solver(self.solver, self.penalty, self.dual)\n",
      "  File \"/Users/nmontalbano/Library/Python/3.8/lib/python/site-packages/sklearn/linear_model/_logistic.py\", line 447, in _check_solver\n",
      "    raise ValueError(\n",
      "ValueError: Solver lbfgs supports only 'l2' or 'none' penalties, got l1 penalty.\n",
      "\n",
      "  warnings.warn(some_fits_failed_message, FitFailedWarning)\n",
      "/Users/nmontalbano/Library/Python/3.8/lib/python/site-packages/sklearn/model_selection/_search.py:969: UserWarning: One or more of the test scores are non-finite: [0.99025     nan 0.99    0.99        nan     nan     nan     nan     nan\n",
      "     nan]\n",
      "  warnings.warn(\n",
      "/Users/nmontalbano/Library/Python/3.8/lib/python/site-packages/sklearn/linear_model/_logistic.py:814: ConvergenceWarning: lbfgs failed to converge (status=1):\n",
      "STOP: TOTAL NO. of ITERATIONS REACHED LIMIT.\n",
      "\n",
      "Increase the number of iterations (max_iter) or scale the data as shown in:\n",
      "    https://scikit-learn.org/stable/modules/preprocessing.html\n",
      "Please also refer to the documentation for alternative solver options:\n",
      "    https://scikit-learn.org/stable/modules/linear_model.html#logistic-regression\n",
      "  n_iter_i = _check_optimize_result(\n"
     ]
    },
    {
     "data": {
      "text/plain": [
       "RandomizedSearchCV(estimator=LogisticRegression(multi_class='multinomial',\n",
       "                                                random_state=42),\n",
       "                   param_distributions={'C': <scipy.stats._distn_infrastructure.rv_frozen object at 0x12e01f880>,\n",
       "                                        'penalty': ['l2', 'l1']},\n",
       "                   random_state=42)"
      ]
     },
     "execution_count": 52,
     "metadata": {},
     "output_type": "execute_result"
    }
   ],
   "source": [
    "from sklearn.model_selection import RandomizedSearchCV\n",
    "from scipy.stats import uniform\n",
    "\n",
    "# dictionary with parameters as keys and lists of parameter settings to try as values\n",
    "distributions = dict(C=uniform(loc=0, scale=4),penalty=['l2', 'l1'])\n",
    "logistic = LogisticRegression(multi_class = 'multinomial', solver='lbfgs', random_state=42)\n",
    "\n",
    "randomized = RandomizedSearchCV(logistic, distributions, random_state=42)\n",
    "# refit: (default = True); refit estimator using the best found parameters on the whole dataset\n",
    "\n",
    "# fitting the model for randomized search\n",
    "randomized.fit(X_train, y_train)"
   ]
  },
  {
   "cell_type": "code",
   "execution_count": 53,
   "metadata": {},
   "outputs": [
    {
     "name": "stdout",
     "output_type": "stream",
     "text": [
      "{'C': 1.49816047538945, 'penalty': 'l2'}\n",
      "LogisticRegression(C=1.49816047538945, multi_class='multinomial',\n",
      "                   random_state=42)\n"
     ]
    }
   ],
   "source": [
    "# print best parameter after tuning\n",
    "print(randomized.best_params_)\n",
    " \n",
    "# print how our model looks after hyper-parameter tuning\n",
    "print(randomized.best_estimator_)"
   ]
  },
  {
   "cell_type": "code",
   "execution_count": 54,
   "metadata": {},
   "outputs": [
    {
     "name": "stdout",
     "output_type": "stream",
     "text": [
      "              precision    recall  f1-score   support\n",
      "\n",
      "       Alive       1.00      1.00      1.00      3835\n",
      "        Dead       0.78      0.76      0.77        80\n",
      "       Stump       1.00      0.99      0.99        85\n",
      "\n",
      "    accuracy                           0.99      4000\n",
      "   macro avg       0.93      0.92      0.92      4000\n",
      "weighted avg       0.99      0.99      0.99      4000\n",
      "\n"
     ]
    }
   ],
   "source": [
    "# precision / recall / f1 score after hyperparameter tuning\n",
    "randomized_predictions = randomized.predict(X_train)\n",
    " \n",
    "# print classification report\n",
    "print(classification_report(y_train, randomized_predictions))"
   ]
  },
  {
   "cell_type": "markdown",
   "metadata": {},
   "source": [
    "#### ensemble methods (voting classifier)"
   ]
  },
  {
   "cell_type": "code",
   "execution_count": 55,
   "metadata": {},
   "outputs": [],
   "source": [
    "# often use ensemble methods at the end of a project, once you already have a few good predictors to combine them into even better predictor\n",
    "# ensemble methods: voting classifier, stacking classifier, bagging classifier, and boosting classifier\n",
    "# voting classifier: takes predictions from multiple models and combines them using majority voting or highest averaged probabilities\n",
    "# stacking classifier: takes predictions from multiple models and combines them using averaging\n",
    "# bagging classifier: takes predictions from multiple models and combines them using bootstrap aggregation\n",
    "# boosting classifier: takes predictions from multiple models and combines them using gradient boosting\n",
    "\n",
    "# even if each classifier is a weak learner (only slightly better than random guessing), the ensemble can still be a strong learner\n",
    "# ^ provided there are a sufficient number of weak learners and they are sufficiently diverse"
   ]
  },
  {
   "cell_type": "code",
   "execution_count": 56,
   "metadata": {},
   "outputs": [
    {
     "name": "stderr",
     "output_type": "stream",
     "text": [
      "/Users/nmontalbano/Library/Python/3.8/lib/python/site-packages/sklearn/linear_model/_logistic.py:814: ConvergenceWarning: lbfgs failed to converge (status=1):\n",
      "STOP: TOTAL NO. of ITERATIONS REACHED LIMIT.\n",
      "\n",
      "Increase the number of iterations (max_iter) or scale the data as shown in:\n",
      "    https://scikit-learn.org/stable/modules/preprocessing.html\n",
      "Please also refer to the documentation for alternative solver options:\n",
      "    https://scikit-learn.org/stable/modules/linear_model.html#logistic-regression\n",
      "  n_iter_i = _check_optimize_result(\n"
     ]
    },
    {
     "data": {
      "text/plain": [
       "VotingClassifier(estimators=[('svm',\n",
       "                              SVC(C=1000, gamma=0.001, probability=True)),\n",
       "                             ('log',\n",
       "                              LogisticRegression(C=1.49816047538945,\n",
       "                                                 multi_class='multinomial',\n",
       "                                                 random_state=42)),\n",
       "                             ('rf',\n",
       "                              RandomForestClassifier(n_estimators=1000,\n",
       "                                                     n_jobs=-1,\n",
       "                                                     random_state=42))],\n",
       "                 voting='soft')"
      ]
     },
     "execution_count": 56,
     "metadata": {},
     "output_type": "execute_result"
    }
   ],
   "source": [
    "# build voting classifier using the softmax model and random forests model from grid search and the svm model from randomized search\n",
    "from sklearn.ensemble import VotingClassifier\n",
    "\n",
    "voting_clf = VotingClassifier(\n",
    "    estimators=[('svm', grid.best_estimator_), ('log', randomized.best_estimator_), ('rf', grid_rf.best_estimator_)], \n",
    "    voting='soft')\n",
    "# voting: (default = 'hard'); 'hard' uses majority voting, 'soft' uses highest class probabilities, averaged across all the individual classifiers\n",
    "\n",
    "voting_clf.fit(X_train, y_train)"
   ]
  },
  {
   "cell_type": "markdown",
   "metadata": {},
   "source": [
    "#### evaluate on the test set (voting classifier | svm after grid search)"
   ]
  },
  {
   "cell_type": "code",
   "execution_count": 57,
   "metadata": {},
   "outputs": [
    {
     "name": "stderr",
     "output_type": "stream",
     "text": [
      "/Users/nmontalbano/Library/Python/3.8/lib/python/site-packages/sklearn/linear_model/_logistic.py:814: ConvergenceWarning: lbfgs failed to converge (status=1):\n",
      "STOP: TOTAL NO. of ITERATIONS REACHED LIMIT.\n",
      "\n",
      "Increase the number of iterations (max_iter) or scale the data as shown in:\n",
      "    https://scikit-learn.org/stable/modules/preprocessing.html\n",
      "Please also refer to the documentation for alternative solver options:\n",
      "    https://scikit-learn.org/stable/modules/linear_model.html#logistic-regression\n",
      "  n_iter_i = _check_optimize_result(\n"
     ]
    },
    {
     "name": "stdout",
     "output_type": "stream",
     "text": [
      "LogisticRegression 0.989\n",
      "SVC 0.988\n",
      "RandomForestClassifier 0.989\n"
     ]
    },
    {
     "name": "stderr",
     "output_type": "stream",
     "text": [
      "/Users/nmontalbano/Library/Python/3.8/lib/python/site-packages/sklearn/linear_model/_logistic.py:814: ConvergenceWarning: lbfgs failed to converge (status=1):\n",
      "STOP: TOTAL NO. of ITERATIONS REACHED LIMIT.\n",
      "\n",
      "Increase the number of iterations (max_iter) or scale the data as shown in:\n",
      "    https://scikit-learn.org/stable/modules/preprocessing.html\n",
      "Please also refer to the documentation for alternative solver options:\n",
      "    https://scikit-learn.org/stable/modules/linear_model.html#logistic-regression\n",
      "  n_iter_i = _check_optimize_result(\n"
     ]
    },
    {
     "name": "stdout",
     "output_type": "stream",
     "text": [
      "VotingClassifier 0.99\n",
      "[10:38:09] WARNING: /Users/runner/work/xgboost/xgboost/src/learner.cc:1115: Starting in XGBoost 1.3.0, the default evaluation metric used with the objective 'multi:softprob' was changed from 'merror' to 'mlogloss'. Explicitly set eval_metric if you'd like to restore the old behavior.\n"
     ]
    },
    {
     "name": "stderr",
     "output_type": "stream",
     "text": [
      "/Users/nmontalbano/Library/Python/3.8/lib/python/site-packages/xgboost/sklearn.py:1224: UserWarning: The use of label encoder in XGBClassifier is deprecated and will be removed in a future release. To remove this warning, do the following: 1) Pass option use_label_encoder=False when constructing XGBClassifier object; and 2) Encode your labels (y) as integers starting with 0, i.e. 0, 1, 2, ..., [num_class - 1].\n",
      "  warnings.warn(label_encoder_deprecation_msg, UserWarning)\n"
     ]
    },
    {
     "name": "stdout",
     "output_type": "stream",
     "text": [
      "XGBClassifier 0.989\n",
      "KNeighborsClassifier 0.984\n",
      "AdaBoostClassifier 0.97\n"
     ]
    }
   ],
   "source": [
    "# voting classifier (majority vote)\n",
    "from sklearn.metrics import accuracy_score\n",
    "\n",
    "# run preprocess pipleline to transform the test set data\n",
    "# call 'transform' not 'fit_transform' so we do not fit the test set\n",
    "X_test = preprocess_pipeline.transform(trees_test_x[num_columns + cat_columns])\n",
    "\n",
    "for clf in (randomized.best_estimator_, grid.best_estimator_, grid_rf.best_estimator_, voting_clf, xgb_cl, knn, ada_clf):\n",
    "    clf.fit(X_train, y_train)\n",
    "    y_pred = clf.predict(X_test)\n",
    "    print(clf.__class__.__name__, accuracy_score(y_test, y_pred))"
   ]
  },
  {
   "cell_type": "code",
   "execution_count": 58,
   "metadata": {},
   "outputs": [],
   "source": [
    "# svm after grid search\n",
    "# final model after grid or randomized search or ensemble (here we use rf model after grid search)\n",
    "final_model = grid_rf.best_estimator_\n",
    "\n",
    "# run preprocess pipleline to transform the test set data\n",
    "# call 'transform' not 'fit_transform' so we do not fit the test set\n",
    "X_test = preprocess_pipeline.transform(trees_test_x[num_columns + cat_columns])\n",
    "final_pred = final_model.predict(X_test)"
   ]
  },
  {
   "cell_type": "code",
   "execution_count": 59,
   "metadata": {},
   "outputs": [
    {
     "data": {
      "text/plain": [
       "array([[955,   4,   0],\n",
       "       [  7,  13,   0],\n",
       "       [  0,   0,  21]])"
      ]
     },
     "execution_count": 59,
     "metadata": {},
     "output_type": "execute_result"
    }
   ],
   "source": [
    "from sklearn.metrics import confusion_matrix\n",
    "\n",
    "conf_mx = confusion_matrix(y_test, final_pred)\n",
    "conf_mx"
   ]
  },
  {
   "cell_type": "code",
   "execution_count": 60,
   "metadata": {},
   "outputs": [
    {
     "name": "stdout",
     "output_type": "stream",
     "text": [
      "              precision    recall  f1-score   support\n",
      "\n",
      "       Alive       0.99      1.00      0.99       959\n",
      "        Dead       0.76      0.65      0.70        20\n",
      "       Stump       1.00      1.00      1.00        21\n",
      "\n",
      "    accuracy                           0.99      1000\n",
      "   macro avg       0.92      0.88      0.90      1000\n",
      "weighted avg       0.99      0.99      0.99      1000\n",
      "\n"
     ]
    }
   ],
   "source": [
    "# print classification report for the test set and final prediction\n",
    "print(classification_report(y_test, final_pred))\n",
    "\n",
    "# Note: do not tweak numbers after this to make performance look better on test set; this tweaking would be unlikely to generalize to new data"
   ]
  },
  {
   "cell_type": "markdown",
   "metadata": {},
   "source": [
    "### 7. Present the solution"
   ]
  },
  {
   "cell_type": "markdown",
   "metadata": {},
   "source": [
    "### 8. Launch, monitor, and maintain the system"
   ]
  }
 ],
 "metadata": {
  "interpreter": {
   "hash": "31f2aee4e71d21fbe5cf8b01ff0e069b9275f58929596ceb00d14d90e3e16cd6"
  },
  "kernelspec": {
   "display_name": "Python 3.8.2 64-bit",
   "language": "python",
   "name": "python3"
  },
  "language_info": {
   "codemirror_mode": {
    "name": "ipython",
    "version": 3
   },
   "file_extension": ".py",
   "mimetype": "text/x-python",
   "name": "python",
   "nbconvert_exporter": "python",
   "pygments_lexer": "ipython3",
   "version": "3.8.2"
  },
  "orig_nbformat": 4
 },
 "nbformat": 4,
 "nbformat_minor": 2
}
